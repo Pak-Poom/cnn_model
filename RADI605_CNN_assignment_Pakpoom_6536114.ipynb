{
 "cells": [
  {
   "cell_type": "markdown",
   "id": "1b4dfd30",
   "metadata": {},
   "source": [
    "# 1. Setup and Data Preparation"
   ]
  },
  {
   "cell_type": "markdown",
   "id": "a816dfad",
   "metadata": {},
   "source": [
    "### 1.1  Install Dependencies and Setup"
   ]
  },
  {
   "cell_type": "code",
   "execution_count": 1,
   "id": "8532ba84",
   "metadata": {},
   "outputs": [
    {
     "name": "stderr",
     "output_type": "stream",
     "text": [
      "2023-03-29 10:34:35.030228: I tensorflow/core/platform/cpu_feature_guard.cc:193] This TensorFlow binary is optimized with oneAPI Deep Neural Network Library (oneDNN) to use the following CPU instructions in performance-critical operations:  SSE4.1 SSE4.2\n",
      "To enable them in other operations, rebuild TensorFlow with the appropriate compiler flags.\n"
     ]
    }
   ],
   "source": [
    "import os\n",
    "import shutil\n",
    "import random\n",
    "\n",
    "import math\n",
    "import pandas as pd\n",
    "import numpy as np\n",
    "import matplotlib.pyplot as plt\n",
    "%matplotlib inline\n",
    "from sklearn.metrics import roc_curve, classification_report, confusion_matrix\n",
    "\n",
    "import tensorflow as tf\n",
    "import keras\n",
    "from keras.models import Sequential\n",
    "from keras.layers import Conv2D, MaxPooling2D, Dense, Flatten, Dropout\n",
    "from keras.constraints import MaxNorm\n",
    "from keras.preprocessing.image import ImageDataGenerator\n",
    "from keras import backend as K"
   ]
  },
  {
   "cell_type": "code",
   "execution_count": 2,
   "id": "39f01d71",
   "metadata": {},
   "outputs": [
    {
     "name": "stdout",
     "output_type": "stream",
     "text": [
      "Found GPU at: /device:GPU:0Metal device set to: Apple M1\n",
      "\n"
     ]
    },
    {
     "name": "stderr",
     "output_type": "stream",
     "text": [
      "2023-03-29 10:34:40.739597: I tensorflow/core/platform/cpu_feature_guard.cc:193] This TensorFlow binary is optimized with oneAPI Deep Neural Network Library (oneDNN) to use the following CPU instructions in performance-critical operations:  SSE4.1 SSE4.2\n",
      "To enable them in other operations, rebuild TensorFlow with the appropriate compiler flags.\n",
      "2023-03-29 10:34:40.740138: I tensorflow/core/common_runtime/pluggable_device/pluggable_device_factory.cc:306] Could not identify NUMA node of platform GPU ID 0, defaulting to 0. Your kernel may not have been built with NUMA support.\n",
      "2023-03-29 10:34:40.740180: I tensorflow/core/common_runtime/pluggable_device/pluggable_device_factory.cc:272] Created TensorFlow device (/device:GPU:0 with 0 MB memory) -> physical PluggableDevice (device: 0, name: METAL, pci bus id: <undefined>)\n"
     ]
    }
   ],
   "source": [
    "device_name = tf.test.gpu_device_name()\n",
    "if len(device_name) > 0:\n",
    "    print(\"Found GPU at: {}\".format(device_name))\n",
    "else:\n",
    "    device_name = \"/device:CPU:0\"\n",
    "    print(\"No GPU, using {}.\".format(device_name))\n",
    "    \n",
    "# Avoid OOM errors by setting GPU Memory Consumption Growth\n",
    "gpus = tf.config.experimental.list_physical_devices('GPU')\n",
    "for gpu in gpus:\n",
    "    tf.config.experimental.set_memory_growth(gpu, True)"
   ]
  },
  {
   "cell_type": "markdown",
   "id": "73bf1180",
   "metadata": {},
   "source": [
    "### 1.2 Prepare Data\n",
    "#### 1.2.1 Make up Directory paths"
   ]
  },
  {
   "cell_type": "code",
   "execution_count": 3,
   "id": "c96eb66d",
   "metadata": {},
   "outputs": [],
   "source": [
    "seed = 1\n",
    "random.seed(seed)\n",
    "\n",
    "directory = \"/Users/pakpoom.danjittisiri/Documents/M.Sc. Classes/Progamming/[msc_class] modern_machine_learning/Convolutional Neural Network (CNN)/Data/\"\n",
    "\n",
    "# Directory for the location of each train, val and test folder\n",
    "train_dir = os.path.join(directory, \"train/\")\n",
    "val_dir = os.path.join(directory, \"val/\")\n",
    "test_dir = os.path.join(directory, \"test/\")\n",
    "\n",
    "# Directory for the location of label.txt files \n",
    "train_label_dir = os.path.join(directory, \"trainlabels.txt\")\n",
    "val_label_dir = os.path.join(directory, \"vallabels.txt\")\n",
    "test_label_dir = os.path.join(directory, \"testlabels.txt\")\n",
    "\n",
    "# Lists contained variables for futher operations\n",
    "dir_names = [\"train\", \"validation\", \"test\"]\n",
    "data_dirs = [train_dir, val_dir, test_dir]\n",
    "label_dirs = [train_label_dir, val_label_dir, test_label_dir]"
   ]
  },
  {
   "cell_type": "markdown",
   "id": "163383e3",
   "metadata": {},
   "source": [
    "#### 1.2.2 Create categorical forders containing benign and malignant images separately in each train, val and test forder"
   ]
  },
  {
   "cell_type": "code",
   "execution_count": 4,
   "id": "624791ec",
   "metadata": {},
   "outputs": [
    {
     "data": {
      "text/plain": [
       "'from tqdm import tqdm\\nfrom time import sleep\\n\\nfor data_ind, data_dir in enumerate(data_dirs):\\n    os.makedirs(data_dir + \"benign/\")\\n    os.makedirs(data_dir + \"malignant/\")\\n\\n# Categorize image data into its belonging folders\\nexamples = 0\\nfor label_ind, label_dir in enumerate(label_dirs):\\n    for line in tqdm(open(label_dir).readlines()[1:]):\\n        split_line = line.split(\" \")\\n        img_file_1 = split_line[0].split(\"/\")\\n        img_file_2 = img_file_1[1]\\n        benign_malign = split_line[1]\\n        if int(float(benign_malign)) == 0:\\n            if os.path.exists(data_dirs[label_ind] + img_file_2):\\n                shutil.copy(\\n                    data_dirs[label_ind] + img_file_2,\\n                    data_dirs[label_ind] + \"benign/\" + img_file_2\\n                )\\n                examples += 1\\n        elif int(float(benign_malign)) == 1:\\n            if os.path.exists(data_dirs[label_ind] + img_file_2):\\n                shutil.copy(\\n                    data_dirs[label_ind] + img_file_2,\\n                    data_dirs[label_ind] + \"malignant/\" + img_file_2\\n                )\\n                examples += 1\\n    print(f\"Number of {dir_names[label_ind]} examples: {examples}\")\\n    examples = 0'"
      ]
     },
     "execution_count": 4,
     "metadata": {},
     "output_type": "execute_result"
    }
   ],
   "source": [
    "\"\"\"from tqdm import tqdm\n",
    "from time import sleep\n",
    "\n",
    "for data_ind, data_dir in enumerate(data_dirs):\n",
    "    os.makedirs(data_dir + \"benign/\")\n",
    "    os.makedirs(data_dir + \"malignant/\")\n",
    "\n",
    "# Categorize image data into its belonging folders\n",
    "examples = 0\n",
    "for label_ind, label_dir in enumerate(label_dirs):\n",
    "    for line in tqdm(open(label_dir).readlines()[1:]):\n",
    "        split_line = line.split(\" \")\n",
    "        img_file_1 = split_line[0].split(\"/\")\n",
    "        img_file_2 = img_file_1[1]\n",
    "        benign_malign = split_line[1]\n",
    "        if int(float(benign_malign)) == 0:\n",
    "            if os.path.exists(data_dirs[label_ind] + img_file_2):\n",
    "                shutil.copy(\n",
    "                    data_dirs[label_ind] + img_file_2,\n",
    "                    data_dirs[label_ind] + \"benign/\" + img_file_2\n",
    "                )\n",
    "                examples += 1\n",
    "        elif int(float(benign_malign)) == 1:\n",
    "            if os.path.exists(data_dirs[label_ind] + img_file_2):\n",
    "                shutil.copy(\n",
    "                    data_dirs[label_ind] + img_file_2,\n",
    "                    data_dirs[label_ind] + \"malignant/\" + img_file_2\n",
    "                )\n",
    "                examples += 1\n",
    "    print(f\"Number of {dir_names[label_ind]} examples: {examples}\")\n",
    "    examples = 0\"\"\""
   ]
  },
  {
   "cell_type": "markdown",
   "id": "9c33a54e",
   "metadata": {},
   "source": [
    "# 2. Data Preprocessing\n",
    "### 2.1 Data Normailization and Augmentation"
   ]
  },
  {
   "cell_type": "code",
   "execution_count": 5,
   "id": "f0b54b29",
   "metadata": {},
   "outputs": [],
   "source": [
    "image_gen_train = ImageDataGenerator(\n",
    "    rescale = 1.0/255,\n",
    "    rotation_range = 15,\n",
    "    zoom_range = (0.95, 0.95),\n",
    "    horizontal_flip = True,\n",
    "    vertical_flip = True,\n",
    "    data_format = \"channels_last\"\n",
    ")\n",
    "image_gen_val = ImageDataGenerator(rescale = 1.0/255)\n",
    "image_gen_test = ImageDataGenerator(rescale = 1.0/255)"
   ]
  },
  {
   "cell_type": "markdown",
   "id": "52172f69",
   "metadata": {},
   "source": [
    "### 2.2 Load Data"
   ]
  },
  {
   "cell_type": "code",
   "execution_count": 6,
   "id": "ccb8200d",
   "metadata": {},
   "outputs": [
    {
     "name": "stdout",
     "output_type": "stream",
     "text": [
      "Found 5187 images belonging to 2 classes.\n",
      "Found 1297 images belonging to 2 classes.\n",
      "Found 1622 images belonging to 2 classes.\n"
     ]
    }
   ],
   "source": [
    "train_examples = 5187\n",
    "validation_examples = 1297\n",
    "test_examples = 1622\n",
    "img_height = img_width = 224\n",
    "batch_size = 32\n",
    "\n",
    "train_data_gen = image_gen_train.flow_from_directory(\n",
    "    directory = train_dir,\n",
    "    target_size = (img_height, img_width),\n",
    "    batch_size = batch_size,\n",
    "    color_mode = \"rgb\",\n",
    "    class_mode = \"binary\",\n",
    "    shuffle = True,\n",
    "    seed = seed\n",
    ")\n",
    "\n",
    "val_data_gen = image_gen_val.flow_from_directory(\n",
    "    directory = val_dir,\n",
    "    target_size = (img_height, img_width),\n",
    "    batch_size = batch_size,\n",
    "    color_mode = \"rgb\",\n",
    "    class_mode = \"binary\",\n",
    "    shuffle = True,\n",
    "    seed = seed\n",
    ")\n",
    "\n",
    "test_data_gen = image_gen_test.flow_from_directory(\n",
    "    directory = test_dir,\n",
    "    target_size = (img_height, img_width),\n",
    "    batch_size = batch_size,\n",
    "    color_mode = \"rgb\",\n",
    "    class_mode = \"binary\",\n",
    "    shuffle = False,\n",
    "    seed = seed\n",
    ")"
   ]
  },
  {
   "cell_type": "markdown",
   "id": "95e85078",
   "metadata": {},
   "source": [
    "# 3. Deep Model and Performance\n",
    "### 3.1 Build Deep Learning Model"
   ]
  },
  {
   "cell_type": "code",
   "execution_count": 7,
   "id": "877d84c8",
   "metadata": {},
   "outputs": [
    {
     "name": "stderr",
     "output_type": "stream",
     "text": [
      "2023-03-29 10:34:41.126483: I tensorflow/core/common_runtime/pluggable_device/pluggable_device_factory.cc:306] Could not identify NUMA node of platform GPU ID 0, defaulting to 0. Your kernel may not have been built with NUMA support.\n",
      "2023-03-29 10:34:41.126535: I tensorflow/core/common_runtime/pluggable_device/pluggable_device_factory.cc:272] Created TensorFlow device (/job:localhost/replica:0/task:0/device:GPU:0 with 0 MB memory) -> physical PluggableDevice (device: 0, name: METAL, pci bus id: <undefined>)\n"
     ]
    },
    {
     "name": "stdout",
     "output_type": "stream",
     "text": [
      "Model: \"sequential\"\n",
      "_________________________________________________________________\n",
      " Layer (type)                Output Shape              Param #   \n",
      "=================================================================\n",
      " conv2d (Conv2D)             (None, 222, 222, 16)      448       \n",
      "                                                                 \n",
      " max_pooling2d (MaxPooling2D  (None, 111, 111, 16)     0         \n",
      " )                                                               \n",
      "                                                                 \n",
      " conv2d_1 (Conv2D)           (None, 109, 109, 32)      4640      \n",
      "                                                                 \n",
      " max_pooling2d_1 (MaxPooling  (None, 54, 54, 32)       0         \n",
      " 2D)                                                             \n",
      "                                                                 \n",
      " conv2d_2 (Conv2D)           (None, 52, 52, 16)        4624      \n",
      "                                                                 \n",
      " max_pooling2d_2 (MaxPooling  (None, 26, 26, 16)       0         \n",
      " 2D)                                                             \n",
      "                                                                 \n",
      " flatten (Flatten)           (None, 10816)             0         \n",
      "                                                                 \n",
      " dense (Dense)               (None, 256)               2769152   \n",
      "                                                                 \n",
      " dropout (Dropout)           (None, 256)               0         \n",
      "                                                                 \n",
      " dense_1 (Dense)             (None, 64)                16448     \n",
      "                                                                 \n",
      " dropout_1 (Dropout)         (None, 64)                0         \n",
      "                                                                 \n",
      " dense_2 (Dense)             (None, 1)                 65        \n",
      "                                                                 \n",
      "=================================================================\n",
      "Total params: 2,795,377\n",
      "Trainable params: 2,795,377\n",
      "Non-trainable params: 0\n",
      "_________________________________________________________________\n"
     ]
    }
   ],
   "source": [
    "with tf.device(device_name):\n",
    "    \n",
    "    model = Sequential()\n",
    "    \n",
    "    model.add(Conv2D(16, (3,3), 1, activation='relu', input_shape=(224, 224, 3)))\n",
    "    model.add(MaxPooling2D())\n",
    "    model.add(Conv2D(32, (3,3), 1, activation='relu'))\n",
    "    model.add(MaxPooling2D())\n",
    "    model.add(Conv2D(16, (3,3), 1, activation='relu'))\n",
    "    model.add(MaxPooling2D())\n",
    "    model.add(Flatten())\n",
    "    model.add(Dense(256, activation='relu', kernel_constraint=MaxNorm(3)))\n",
    "    model.add(Dropout(0.5))\n",
    "    model.add(Dense(64, activation='relu', kernel_constraint=MaxNorm(3)))\n",
    "    model.add(Dropout(0.2))\n",
    "    model.add(Dense(1, activation='sigmoid'))\n",
    "    \n",
    "    METRICS = [\n",
    "        keras.metrics.BinaryAccuracy(name=\"accuracy\"),\n",
    "        keras.metrics.Precision(name=\"precision\"),\n",
    "        keras.metrics.Recall(name=\"recall\"),\n",
    "        keras.metrics.AUC(name=\"auc\")\n",
    "    ]\n",
    "    \n",
    "    model.compile(\n",
    "        loss=[keras.losses.BinaryCrossentropy(from_logits=False)], \n",
    "        optimizer=keras.optimizers.Adam(learning_rate=3e-4), \n",
    "        metrics=METRICS\n",
    "    )\n",
    "    \n",
    "    model.summary()"
   ]
  },
  {
   "cell_type": "markdown",
   "id": "a278049d",
   "metadata": {},
   "source": [
    "### 3.2 Train"
   ]
  },
  {
   "cell_type": "code",
   "execution_count": 8,
   "id": "89e65410",
   "metadata": {},
   "outputs": [],
   "source": [
    "tensorboard_callback = tf.keras.callbacks.TensorBoard(log_dir=\"./logs\")\n",
    "\n",
    "epochs = 20"
   ]
  },
  {
   "cell_type": "code",
   "execution_count": 9,
   "id": "7c46a382",
   "metadata": {
    "scrolled": false
   },
   "outputs": [
    {
     "name": "stdout",
     "output_type": "stream",
     "text": [
      "Epoch 1/20\n"
     ]
    },
    {
     "name": "stderr",
     "output_type": "stream",
     "text": [
      "2023-03-29 10:34:43.346459: I tensorflow/core/grappler/optimizers/custom_graph_optimizer_registry.cc:114] Plugin optimizer for device_type GPU is enabled.\n"
     ]
    },
    {
     "name": "stdout",
     "output_type": "stream",
     "text": [
      "162/162 [==============================] - ETA: 0s - loss: 0.4464 - accuracy: 0.8339 - precision: 0.3939 - recall: 0.0309 - auc: 0.6106"
     ]
    },
    {
     "name": "stderr",
     "output_type": "stream",
     "text": [
      "2023-03-29 10:36:05.746423: I tensorflow/core/grappler/optimizers/custom_graph_optimizer_registry.cc:114] Plugin optimizer for device_type GPU is enabled.\n"
     ]
    },
    {
     "name": "stdout",
     "output_type": "stream",
     "text": [
      "162/162 [==============================] - 86s 517ms/step - loss: 0.4464 - accuracy: 0.8339 - precision: 0.3939 - recall: 0.0309 - auc: 0.6106 - val_loss: 0.4033 - val_accuracy: 0.8266 - val_precision: 0.0000e+00 - val_recall: 0.0000e+00 - val_auc: 0.7624\n",
      "Epoch 2/20\n",
      "162/162 [==============================] - 80s 492ms/step - loss: 0.3753 - accuracy: 0.8436 - precision: 0.5662 - recall: 0.1485 - auc: 0.7722 - val_loss: 0.3796 - val_accuracy: 0.8359 - val_precision: 0.8000 - val_recall: 0.0721 - val_auc: 0.8069\n",
      "Epoch 3/20\n",
      "162/162 [==============================] - 76s 470ms/step - loss: 0.3515 - accuracy: 0.8487 - precision: 0.5993 - recall: 0.2155 - auc: 0.8149 - val_loss: 0.3627 - val_accuracy: 0.8453 - val_precision: 0.8529 - val_recall: 0.1306 - val_auc: 0.8386\n",
      "Epoch 4/20\n",
      "162/162 [==============================] - 76s 469ms/step - loss: 0.3339 - accuracy: 0.8530 - precision: 0.6181 - recall: 0.2666 - auc: 0.8403 - val_loss: 0.3377 - val_accuracy: 0.8516 - val_precision: 0.7778 - val_recall: 0.1909 - val_auc: 0.8579\n",
      "Epoch 5/20\n",
      "162/162 [==============================] - 76s 467ms/step - loss: 0.3151 - accuracy: 0.8652 - precision: 0.6845 - recall: 0.3202 - auc: 0.8605 - val_loss: 0.3202 - val_accuracy: 0.8680 - val_precision: 0.7411 - val_recall: 0.3722 - val_auc: 0.8809\n",
      "Epoch 6/20\n",
      "162/162 [==============================] - 76s 469ms/step - loss: 0.3064 - accuracy: 0.8700 - precision: 0.6785 - recall: 0.3864 - auc: 0.8671 - val_loss: 0.2923 - val_accuracy: 0.8766 - val_precision: 0.7982 - val_recall: 0.3901 - val_auc: 0.8962\n",
      "Epoch 7/20\n",
      "162/162 [==============================] - 50s 309ms/step - loss: 0.2876 - accuracy: 0.8832 - precision: 0.7283 - recall: 0.4573 - auc: 0.8847 - val_loss: 0.3053 - val_accuracy: 0.8711 - val_precision: 0.8667 - val_recall: 0.2955 - val_auc: 0.8850\n",
      "Epoch 8/20\n",
      "162/162 [==============================] - 49s 299ms/step - loss: 0.2855 - accuracy: 0.8803 - precision: 0.7234 - recall: 0.4228 - auc: 0.8849 - val_loss: 0.2863 - val_accuracy: 0.8875 - val_precision: 0.8235 - val_recall: 0.4434 - val_auc: 0.8994\n",
      "Epoch 9/20\n",
      "162/162 [==============================] - 51s 312ms/step - loss: 0.2595 - accuracy: 0.8951 - precision: 0.7573 - recall: 0.5238 - auc: 0.9094 - val_loss: 0.2641 - val_accuracy: 0.9000 - val_precision: 0.8121 - val_recall: 0.5475 - val_auc: 0.9115\n",
      "Epoch 10/20\n",
      "162/162 [==============================] - 53s 327ms/step - loss: 0.2521 - accuracy: 0.8984 - precision: 0.7726 - recall: 0.5310 - auc: 0.9132 - val_loss: 0.2582 - val_accuracy: 0.8969 - val_precision: 0.8227 - val_recall: 0.5202 - val_auc: 0.9165\n",
      "Epoch 11/20\n",
      "162/162 [==============================] - 55s 337ms/step - loss: 0.2452 - accuracy: 0.9015 - precision: 0.7767 - recall: 0.5548 - auc: 0.9190 - val_loss: 0.2578 - val_accuracy: 0.8930 - val_precision: 0.8673 - val_recall: 0.4455 - val_auc: 0.9206\n",
      "Epoch 12/20\n",
      "162/162 [==============================] - 54s 331ms/step - loss: 0.2388 - accuracy: 0.9049 - precision: 0.8034 - recall: 0.5534 - auc: 0.9232 - val_loss: 0.2491 - val_accuracy: 0.9031 - val_precision: 0.8593 - val_recall: 0.5249 - val_auc: 0.9232\n",
      "Epoch 13/20\n",
      "162/162 [==============================] - 57s 350ms/step - loss: 0.2313 - accuracy: 0.9088 - precision: 0.7955 - recall: 0.5902 - auc: 0.9278 - val_loss: 0.2380 - val_accuracy: 0.9078 - val_precision: 0.8832 - val_recall: 0.5426 - val_auc: 0.9328\n",
      "Epoch 14/20\n",
      "162/162 [==============================] - 60s 370ms/step - loss: 0.2287 - accuracy: 0.9086 - precision: 0.7981 - recall: 0.5881 - auc: 0.9290 - val_loss: 0.2348 - val_accuracy: 0.9039 - val_precision: 0.8626 - val_recall: 0.5183 - val_auc: 0.9318\n",
      "Epoch 15/20\n",
      "162/162 [==============================] - 61s 375ms/step - loss: 0.2246 - accuracy: 0.9108 - precision: 0.7929 - recall: 0.6140 - auc: 0.9321 - val_loss: 0.2351 - val_accuracy: 0.9047 - val_precision: 0.8511 - val_recall: 0.5430 - val_auc: 0.9312\n",
      "Epoch 16/20\n",
      "162/162 [==============================] - 61s 375ms/step - loss: 0.2274 - accuracy: 0.9065 - precision: 0.7800 - recall: 0.5945 - auc: 0.9325 - val_loss: 0.2416 - val_accuracy: 0.9000 - val_precision: 0.8095 - val_recall: 0.5434 - val_auc: 0.9253\n",
      "Epoch 17/20\n",
      "162/162 [==============================] - 63s 384ms/step - loss: 0.2186 - accuracy: 0.9141 - precision: 0.8021 - recall: 0.6249 - auc: 0.9351 - val_loss: 0.2210 - val_accuracy: 0.9164 - val_precision: 0.8701 - val_recall: 0.6063 - val_auc: 0.9407\n",
      "Epoch 18/20\n",
      "162/162 [==============================] - 64s 393ms/step - loss: 0.2144 - accuracy: 0.9108 - precision: 0.7896 - recall: 0.6167 - auc: 0.9388 - val_loss: 0.2193 - val_accuracy: 0.9125 - val_precision: 0.8303 - val_recall: 0.6199 - val_auc: 0.9392\n",
      "Epoch 19/20\n",
      "162/162 [==============================] - 64s 395ms/step - loss: 0.2086 - accuracy: 0.9168 - precision: 0.8173 - recall: 0.6293 - auc: 0.9422 - val_loss: 0.2361 - val_accuracy: 0.9031 - val_precision: 0.8089 - val_recall: 0.5747 - val_auc: 0.9328\n",
      "Epoch 20/20\n",
      "162/162 [==============================] - 66s 406ms/step - loss: 0.2061 - accuracy: 0.9199 - precision: 0.8147 - recall: 0.6587 - auc: 0.9429 - val_loss: 0.2415 - val_accuracy: 0.9094 - val_precision: 0.8723 - val_recall: 0.5566 - val_auc: 0.9361\n"
     ]
    }
   ],
   "source": [
    "hist = model.fit(\n",
    "    train_data_gen,\n",
    "    epochs = epochs,\n",
    "    steps_per_epoch = train_examples//batch_size,\n",
    "    validation_data = val_data_gen,\n",
    "    validation_steps = validation_examples//batch_size,\n",
    "    callbacks = [tensorboard_callback]\n",
    "    )"
   ]
  },
  {
   "cell_type": "markdown",
   "id": "0984c636",
   "metadata": {},
   "source": [
    "### 3.3 Loss Visualization"
   ]
  },
  {
   "cell_type": "code",
   "execution_count": 10,
   "id": "ae0929d0",
   "metadata": {},
   "outputs": [],
   "source": [
    "def visualize_loss(hist):\n",
    "    fig = plt.figure(figsize=(5,3))\n",
    "    plt.plot(hist.history['loss'], color='teal', label='loss')\n",
    "    plt.plot(hist.history['val_loss'], color='orange', label='val_loss')\n",
    "    plt.xlabel(\"Epoch\")\n",
    "    plt.ylabel(\"Loss\")\n",
    "    plt.legend(loc=\"upper right\")\n",
    "    plt.show()"
   ]
  },
  {
   "cell_type": "code",
   "execution_count": 11,
   "id": "489ea910",
   "metadata": {},
   "outputs": [
    {
     "data": {
      "image/png": "[encoded data removed]",
      "text/plain": [
       "<Figure size 500x300 with 1 Axes>"
      ]
     },
     "metadata": {},
     "output_type": "display_data"
    }
   ],
   "source": [
    "visualize_loss(hist)"
   ]
  },
  {
   "cell_type": "markdown",
   "id": "bb9645f5",
   "metadata": {},
   "source": [
    "### 3.4 Evaluate"
   ]
  },
  {
   "cell_type": "code",
   "execution_count": 12,
   "id": "a48fb642",
   "metadata": {},
   "outputs": [
    {
     "name": "stdout",
     "output_type": "stream",
     "text": [
      "51/51 - 3s - loss: 0.2307 - accuracy: 0.9131 - precision: 0.8983 - recall: 0.5638 - auc: 0.9400 - 3s/epoch - 65ms/step\n",
      "\n",
      "Test loss: 0.2307\n",
      "Test accuracy: 0.9131\n",
      "Test F1 score: 0.6928\n"
     ]
    }
   ],
   "source": [
    "score = model.evaluate(test_data_gen, verbose=2)\n",
    "\n",
    "print('\\nTest loss:', \"{:.4f}\".format(score[0])) \n",
    "print('Test accuracy:', \"{:.4f}\".format(score[1]))\n",
    "print('Test F1 score:', \"{:.4f}\".format(2*((score[2]*score[3])/(score[2]+score[3]+K.epsilon()))))"
   ]
  },
  {
   "cell_type": "markdown",
   "id": "ca5cf3d8",
   "metadata": {},
   "source": [
    "### 3.5 Test "
   ]
  },
  {
   "cell_type": "code",
   "execution_count": 13,
   "id": "73378cf3",
   "metadata": {},
   "outputs": [],
   "source": [
    "def create_tst_lb(test_data_gen):\n",
    "\n",
    "    test_labels = np.array([])\n",
    "    num_batches = 0\n",
    "    for _, y in test_data_gen:\n",
    "        test_labels = np.append(test_labels, y)\n",
    "        num_batches += 1 \n",
    "        if num_batches == math.ceil(test_examples / batch_size):\n",
    "            break\n",
    "    \n",
    "    return test_labels"
   ]
  },
  {
   "cell_type": "code",
   "execution_count": 14,
   "id": "38d5cabc",
   "metadata": {},
   "outputs": [],
   "source": [
    "def plot_roc(labels, predictions):\n",
    "    fp, tp, _ = roc_curve(labels, predictions)\n",
    "    plt.plot(100*fp, 100*tp)\n",
    "    plt.suptitle('ROC curve', fontsize=15)\n",
    "    plt.xlabel(\"Flase positive [%]\")\n",
    "    plt.ylabel(\"Tru positive [%]\")\n",
    "    plt.show()"
   ]
  },
  {
   "cell_type": "code",
   "execution_count": 15,
   "id": "c7ab8409",
   "metadata": {},
   "outputs": [
    {
     "name": "stdout",
     "output_type": "stream",
     "text": [
      "\r",
      " 1/51 [..............................] - ETA: 20s"
     ]
    },
    {
     "name": "stderr",
     "output_type": "stream",
     "text": [
      "2023-03-29 10:56:04.160602: I tensorflow/core/grappler/optimizers/custom_graph_optimizer_registry.cc:114] Plugin optimizer for device_type GPU is enabled.\n"
     ]
    },
    {
     "name": "stdout",
     "output_type": "stream",
     "text": [
      "51/51 [==============================] - 2s 32ms/step\n"
     ]
    },
    {
     "data": {
      "image/png": "[encoded data removed]",
      "text/plain": [
       "<Figure size 640x480 with 1 Axes>"
      ]
     },
     "metadata": {},
     "output_type": "display_data"
    },
    {
     "name": "stdout",
     "output_type": "stream",
     "text": [
      "\n",
      "Confusion Matrix:\n",
      " [[1322   18]\n",
      " [ 123  159]]\n",
      "\n",
      "Classification Report:\n",
      "               precision    recall  f1-score   support\n",
      "\n",
      "      benign       0.91      0.99      0.95      1340\n",
      "   malignant       0.90      0.56      0.69       282\n",
      "\n",
      "    accuracy                           0.91      1622\n",
      "   macro avg       0.91      0.78      0.82      1622\n",
      "weighted avg       0.91      0.91      0.90      1622\n",
      "\n"
     ]
    }
   ],
   "source": [
    "pred_prob = model.predict(test_data_gen)\n",
    "predictions = pred_prob > 0.5\n",
    "\n",
    "test_labels = create_tst_lb(test_data_gen)\n",
    "plot_roc(test_labels, pred_prob)\n",
    "\n",
    "cm = confusion_matrix(y_true=test_data_gen.classes, y_pred=predictions)\n",
    "class_report = classification_report(test_data_gen.classes, predictions, target_names=[\"benign\", \"malignant\"])\n",
    "print('\\nConfusion Matrix:\\n', cm)\n",
    "print('\\nClassification Report:\\n', class_report)"
   ]
  },
  {
   "cell_type": "markdown",
   "id": "9912a366",
   "metadata": {},
   "source": [
    "# 4. Transfer Learning Application\n",
    "### 4.1 Build Transfer Learning Model "
   ]
  },
  {
   "cell_type": "code",
   "execution_count": 16,
   "id": "bd5d0012",
   "metadata": {},
   "outputs": [],
   "source": [
    "from tensorflow.keras.applications import VGG16\n",
    "from tensorflow.keras.models import Model"
   ]
  },
  {
   "cell_type": "code",
   "execution_count": 17,
   "id": "878a941c",
   "metadata": {
    "scrolled": false
   },
   "outputs": [
    {
     "name": "stdout",
     "output_type": "stream",
     "text": [
      "Model: \"model\"\n",
      "_________________________________________________________________\n",
      " Layer (type)                Output Shape              Param #   \n",
      "=================================================================\n",
      " input_1 (InputLayer)        [(None, 224, 224, 3)]     0         \n",
      "                                                                 \n",
      " block1_conv1 (Conv2D)       (None, 224, 224, 64)      1792      \n",
      "                                                                 \n",
      " block1_conv2 (Conv2D)       (None, 224, 224, 64)      36928     \n",
      "                                                                 \n",
      " block1_pool (MaxPooling2D)  (None, 112, 112, 64)      0         \n",
      "                                                                 \n",
      " block2_conv1 (Conv2D)       (None, 112, 112, 128)     73856     \n",
      "                                                                 \n",
      " block2_conv2 (Conv2D)       (None, 112, 112, 128)     147584    \n",
      "                                                                 \n",
      " block2_pool (MaxPooling2D)  (None, 56, 56, 128)       0         \n",
      "                                                                 \n",
      " block3_conv1 (Conv2D)       (None, 56, 56, 256)       295168    \n",
      "                                                                 \n",
      " block3_conv2 (Conv2D)       (None, 56, 56, 256)       590080    \n",
      "                                                                 \n",
      " block3_conv3 (Conv2D)       (None, 56, 56, 256)       590080    \n",
      "                                                                 \n",
      " block3_pool (MaxPooling2D)  (None, 28, 28, 256)       0         \n",
      "                                                                 \n",
      " block4_conv1 (Conv2D)       (None, 28, 28, 512)       1180160   \n",
      "                                                                 \n",
      " block4_conv2 (Conv2D)       (None, 28, 28, 512)       2359808   \n",
      "                                                                 \n",
      " block4_conv3 (Conv2D)       (None, 28, 28, 512)       2359808   \n",
      "                                                                 \n",
      " block4_pool (MaxPooling2D)  (None, 14, 14, 512)       0         \n",
      "                                                                 \n",
      " block5_conv1 (Conv2D)       (None, 14, 14, 512)       2359808   \n",
      "                                                                 \n",
      " block5_conv2 (Conv2D)       (None, 14, 14, 512)       2359808   \n",
      "                                                                 \n",
      " block5_conv3 (Conv2D)       (None, 14, 14, 512)       2359808   \n",
      "                                                                 \n",
      " block5_pool (MaxPooling2D)  (None, 7, 7, 512)         0         \n",
      "                                                                 \n",
      " flatten_1 (Flatten)         (None, 25088)             0         \n",
      "                                                                 \n",
      " dense_3 (Dense)             (None, 256)               6422784   \n",
      "                                                                 \n",
      " dropout_2 (Dropout)         (None, 256)               0         \n",
      "                                                                 \n",
      " dense_4 (Dense)             (None, 64)                16448     \n",
      "                                                                 \n",
      " dropout_3 (Dropout)         (None, 64)                0         \n",
      "                                                                 \n",
      " dense_5 (Dense)             (None, 1)                 65        \n",
      "                                                                 \n",
      "=================================================================\n",
      "Total params: 21,153,985\n",
      "Trainable params: 6,439,297\n",
      "Non-trainable params: 14,714,688\n",
      "_________________________________________________________________\n",
      "None\n"
     ]
    }
   ],
   "source": [
    "with tf.device(device_name):\n",
    "\n",
    "    vgg = VGG16(\n",
    "        input_shape = (224,224,3), \n",
    "        weights = \"imagenet\", \n",
    "        include_top = False\n",
    "    )\n",
    "\n",
    "    for layer in vgg.layers:\n",
    "        layer.trainable = False\n",
    "\n",
    "    x = Flatten()(vgg.output)\n",
    "    x = Dense(256, activation = \"relu\", kernel_constraint=MaxNorm(3))(x)  \n",
    "    x = Dropout(0.5)(x)\n",
    "    x = Dense(64, activation = \"relu\", kernel_constraint=MaxNorm(3))(x)\n",
    "    x = Dropout(0.2)(x)\n",
    "    x = Dense(1, activation = \"sigmoid\")(x) \n",
    "\n",
    "    vgg_model = Model(\n",
    "        inputs = vgg.input, \n",
    "        outputs = x\n",
    "    )\n",
    "\n",
    "    METRICS = [\n",
    "        keras.metrics.BinaryAccuracy(name=\"accuracy\"),\n",
    "        keras.metrics.Precision(name=\"precision\"),\n",
    "        keras.metrics.Recall(name=\"recall\"),\n",
    "        keras.metrics.AUC(name=\"auc\")\n",
    "    ]\n",
    "    \n",
    "    vgg_model.compile(\n",
    "        loss = [keras.losses.BinaryCrossentropy(from_logits=False)], \n",
    "        optimizer = keras.optimizers.Adam(learning_rate=3e-4), \n",
    "        metrics = METRICS\n",
    "    )\n",
    "\n",
    "    print(vgg_model.summary())"
   ]
  },
  {
   "cell_type": "markdown",
   "id": "4742bf39",
   "metadata": {},
   "source": [
    "### 4.2 Train"
   ]
  },
  {
   "cell_type": "code",
   "execution_count": 18,
   "id": "4a9a993d",
   "metadata": {
    "scrolled": false
   },
   "outputs": [
    {
     "name": "stdout",
     "output_type": "stream",
     "text": [
      "Epoch 1/20\n"
     ]
    },
    {
     "name": "stderr",
     "output_type": "stream",
     "text": [
      "2023-03-29 10:56:09.912946: I tensorflow/core/grappler/optimizers/custom_graph_optimizer_registry.cc:114] Plugin optimizer for device_type GPU is enabled.\n"
     ]
    },
    {
     "name": "stdout",
     "output_type": "stream",
     "text": [
      "162/162 [==============================] - ETA: 0s - loss: 0.4787 - accuracy: 0.8254 - precision: 0.2252 - recall: 0.0298 - auc: 0.5702"
     ]
    },
    {
     "name": "stderr",
     "output_type": "stream",
     "text": [
      "2023-03-29 11:00:11.980926: I tensorflow/core/grappler/optimizers/custom_graph_optimizer_registry.cc:114] Plugin optimizer for device_type GPU is enabled.\n"
     ]
    },
    {
     "name": "stdout",
     "output_type": "stream",
     "text": [
      "162/162 [==============================] - 304s 2s/step - loss: 0.4787 - accuracy: 0.8254 - precision: 0.2252 - recall: 0.0298 - auc: 0.5702 - val_loss: 0.4311 - val_accuracy: 0.8273 - val_precision: 0.0000e+00 - val_recall: 0.0000e+00 - val_auc: 0.7231\n",
      "Epoch 2/20\n",
      "162/162 [==============================] - 294s 2s/step - loss: 0.4155 - accuracy: 0.8388 - precision: 0.5616 - recall: 0.0488 - auc: 0.6833 - val_loss: 0.4165 - val_accuracy: 0.8266 - val_precision: 0.0000e+00 - val_recall: 0.0000e+00 - val_auc: 0.8128\n",
      "Epoch 3/20\n",
      "162/162 [==============================] - 300s 2s/step - loss: 0.3967 - accuracy: 0.8419 - precision: 0.6623 - recall: 0.0607 - auc: 0.7314 - val_loss: 0.3892 - val_accuracy: 0.8383 - val_precision: 0.7917 - val_recall: 0.0860 - val_auc: 0.8165\n",
      "Epoch 4/20\n",
      "162/162 [==============================] - 296s 2s/step - loss: 0.3731 - accuracy: 0.8469 - precision: 0.6667 - recall: 0.1214 - auc: 0.7771 - val_loss: 0.3879 - val_accuracy: 0.8445 - val_precision: 0.8158 - val_recall: 0.1390 - val_auc: 0.8255\n",
      "Epoch 5/20\n",
      "162/162 [==============================] - 278s 2s/step - loss: 0.3534 - accuracy: 0.8533 - precision: 0.7041 - recall: 0.1651 - auc: 0.8075 - val_loss: 0.4005 - val_accuracy: 0.8664 - val_precision: 0.7193 - val_recall: 0.3710 - val_auc: 0.8342\n",
      "Epoch 6/20\n",
      "162/162 [==============================] - 272s 2s/step - loss: 0.3495 - accuracy: 0.8580 - precision: 0.6699 - recall: 0.2473 - auc: 0.8115 - val_loss: 0.3652 - val_accuracy: 0.8406 - val_precision: 0.9000 - val_recall: 0.0818 - val_auc: 0.8437\n",
      "Epoch 7/20\n",
      "162/162 [==============================] - 280s 2s/step - loss: 0.3271 - accuracy: 0.8681 - precision: 0.7389 - recall: 0.2961 - auc: 0.8403 - val_loss: 0.4128 - val_accuracy: 0.8586 - val_precision: 0.5885 - val_recall: 0.6018 - val_auc: 0.8502\n",
      "Epoch 8/20\n",
      "162/162 [==============================] - 277s 2s/step - loss: 0.3201 - accuracy: 0.8696 - precision: 0.7273 - recall: 0.3154 - auc: 0.8506 - val_loss: 0.3333 - val_accuracy: 0.8711 - val_precision: 0.7917 - val_recall: 0.3439 - val_auc: 0.8537\n",
      "Epoch 9/20\n",
      "162/162 [==============================] - 279s 2s/step - loss: 0.3127 - accuracy: 0.8696 - precision: 0.7132 - recall: 0.3345 - auc: 0.8594 - val_loss: 0.3697 - val_accuracy: 0.8703 - val_precision: 0.6250 - val_recall: 0.6306 - val_auc: 0.8645\n",
      "Epoch 10/20\n",
      "162/162 [==============================] - 280s 2s/step - loss: 0.3116 - accuracy: 0.8757 - precision: 0.7450 - recall: 0.3588 - auc: 0.8578 - val_loss: 0.3240 - val_accuracy: 0.8672 - val_precision: 0.8841 - val_recall: 0.2735 - val_auc: 0.8684\n",
      "Epoch 11/20\n",
      "162/162 [==============================] - 287s 2s/step - loss: 0.3101 - accuracy: 0.8677 - precision: 0.7000 - recall: 0.3325 - auc: 0.8611 - val_loss: 0.3260 - val_accuracy: 0.8820 - val_precision: 0.7823 - val_recall: 0.4389 - val_auc: 0.8674\n",
      "Epoch 12/20\n",
      "162/162 [==============================] - 292s 2s/step - loss: 0.2970 - accuracy: 0.8807 - precision: 0.7632 - recall: 0.3820 - auc: 0.8703 - val_loss: 0.3173 - val_accuracy: 0.8797 - val_precision: 0.8681 - val_recall: 0.3575 - val_auc: 0.8697\n",
      "Epoch 13/20\n",
      "162/162 [==============================] - 303s 2s/step - loss: 0.3058 - accuracy: 0.8776 - precision: 0.7391 - recall: 0.3845 - auc: 0.8656 - val_loss: 0.3155 - val_accuracy: 0.8711 - val_precision: 0.8873 - val_recall: 0.2864 - val_auc: 0.8744\n",
      "Epoch 14/20\n",
      "162/162 [==============================] - 298s 2s/step - loss: 0.3010 - accuracy: 0.8749 - precision: 0.7124 - recall: 0.3938 - auc: 0.8697 - val_loss: 0.3262 - val_accuracy: 0.8859 - val_precision: 0.7671 - val_recall: 0.5000 - val_auc: 0.8749\n",
      "Epoch 15/20\n",
      "162/162 [==============================] - 295s 2s/step - loss: 0.2902 - accuracy: 0.8834 - precision: 0.7521 - recall: 0.4282 - auc: 0.8792 - val_loss: 0.3234 - val_accuracy: 0.8852 - val_precision: 0.7436 - val_recall: 0.5202 - val_auc: 0.8746\n",
      "Epoch 16/20\n",
      "162/162 [==============================] - 308s 2s/step - loss: 0.2928 - accuracy: 0.8811 - precision: 0.7473 - recall: 0.4057 - auc: 0.8778 - val_loss: 0.3312 - val_accuracy: 0.8859 - val_precision: 0.7569 - val_recall: 0.4955 - val_auc: 0.8703\n",
      "Epoch 17/20\n",
      "162/162 [==============================] - 307s 2s/step - loss: 0.2990 - accuracy: 0.8782 - precision: 0.7335 - recall: 0.3964 - auc: 0.8728 - val_loss: 0.3767 - val_accuracy: 0.8414 - val_precision: 1.0000 - val_recall: 0.0814 - val_auc: 0.8756\n",
      "Epoch 18/20\n",
      "162/162 [==============================] - 310s 2s/step - loss: 0.2977 - accuracy: 0.8786 - precision: 0.7414 - recall: 0.3871 - auc: 0.8720 - val_loss: 0.3032 - val_accuracy: 0.8852 - val_precision: 0.7829 - val_recall: 0.4591 - val_auc: 0.8785\n",
      "Epoch 19/20\n",
      "162/162 [==============================] - 301s 2s/step - loss: 0.2961 - accuracy: 0.8852 - precision: 0.7541 - recall: 0.4381 - auc: 0.8683 - val_loss: 0.3054 - val_accuracy: 0.8828 - val_precision: 0.8125 - val_recall: 0.4136 - val_auc: 0.8785\n",
      "Epoch 20/20\n",
      "162/162 [==============================] - 307s 2s/step - loss: 0.2917 - accuracy: 0.8768 - precision: 0.7366 - recall: 0.3771 - auc: 0.8781 - val_loss: 0.3095 - val_accuracy: 0.8758 - val_precision: 0.8846 - val_recall: 0.3151 - val_auc: 0.8810\n"
     ]
    }
   ],
   "source": [
    "hist = vgg_model.fit(\n",
    "    train_data_gen,\n",
    "    epochs = epochs,\n",
    "    steps_per_epoch = train_examples//batch_size,\n",
    "    validation_data = val_data_gen,\n",
    "    validation_steps = validation_examples//batch_size,\n",
    "    callbacks = [tensorboard_callback],\n",
    "    verbose=1\n",
    "    )"
   ]
  },
  {
   "cell_type": "markdown",
   "id": "1369951a",
   "metadata": {},
   "source": [
    "### 4.3 Loss Visualization"
   ]
  },
  {
   "cell_type": "code",
   "execution_count": 19,
   "id": "a22050cf",
   "metadata": {},
   "outputs": [
    {
     "data": {
      "image/png": "[encoded data removed]",
      "text/plain": [
       "<Figure size 500x300 with 1 Axes>"
      ]
     },
     "metadata": {},
     "output_type": "display_data"
    }
   ],
   "source": [
    "visualize_loss(hist)"
   ]
  },
  {
   "cell_type": "markdown",
   "id": "6ff71705",
   "metadata": {},
   "source": [
    "### 4.4 Evaluate"
   ]
  },
  {
   "cell_type": "code",
   "execution_count": 20,
   "id": "771b8ebb",
   "metadata": {},
   "outputs": [
    {
     "name": "stdout",
     "output_type": "stream",
     "text": [
      "51/51 - 74s - loss: 0.3050 - accuracy: 0.8748 - precision: 0.8911 - recall: 0.3191 - auc: 0.8943 - 74s/epoch - 1s/step\n",
      "\n",
      "Test loss: 0.3050\n",
      "Test accuracy: 0.8748\n",
      "Test F1 score: 0.4700\n"
     ]
    }
   ],
   "source": [
    "score = vgg_model.evaluate(test_data_gen, verbose=2)\n",
    "\n",
    "print('\\nTest loss:', \"{:.4f}\".format(score[0])) \n",
    "print('Test accuracy:', \"{:.4f}\".format(score[1]))\n",
    "print('Test F1 score:', \"{:.4f}\".format(2*((score[2]*score[3])/(score[2]+score[3]+K.epsilon()))))"
   ]
  },
  {
   "cell_type": "markdown",
   "id": "abdf15f5",
   "metadata": {},
   "source": [
    "### 4.5 Test"
   ]
  },
  {
   "cell_type": "code",
   "execution_count": 21,
   "id": "5856a63b",
   "metadata": {},
   "outputs": [
    {
     "name": "stderr",
     "output_type": "stream",
     "text": [
      "2023-03-29 12:35:11.398385: I tensorflow/core/grappler/optimizers/custom_graph_optimizer_registry.cc:114] Plugin optimizer for device_type GPU is enabled.\n"
     ]
    },
    {
     "name": "stdout",
     "output_type": "stream",
     "text": [
      "51/51 [==============================] - 64s 1s/step\n"
     ]
    },
    {
     "data": {
      "image/png": "[encoded data removed]",
      "text/plain": [
       "<Figure size 640x480 with 1 Axes>"
      ]
     },
     "metadata": {},
     "output_type": "display_data"
    },
    {
     "name": "stdout",
     "output_type": "stream",
     "text": [
      "\n",
      "Confusion Matrix:\n",
      " [[1329   11]\n",
      " [ 192   90]]\n",
      "\n",
      "Classification Report:\n",
      "               precision    recall  f1-score   support\n",
      "\n",
      "      benign       0.87      0.99      0.93      1340\n",
      "   malignant       0.89      0.32      0.47       282\n",
      "\n",
      "    accuracy                           0.87      1622\n",
      "   macro avg       0.88      0.66      0.70      1622\n",
      "weighted avg       0.88      0.87      0.85      1622\n",
      "\n"
     ]
    }
   ],
   "source": [
    "pred_prob = vgg_model.predict(test_data_gen)\n",
    "predictions = pred_prob > 0.5\n",
    "\n",
    "plot_roc(test_labels, pred_prob)\n",
    "\n",
    "cm = confusion_matrix(y_true=test_data_gen.classes, y_pred=predictions)\n",
    "class_report = classification_report(test_data_gen.classes, predictions, target_names=[\"benign\", \"malignant\"])\n",
    "print('\\nConfusion Matrix:\\n', cm)\n",
    "print('\\nClassification Report:\\n', class_report)"
   ]
  },
  {
   "cell_type": "markdown",
   "id": "428bcb63",
   "metadata": {},
   "source": [
    "# 5. Transfer Learning application with Fine Tuning and Performance\n",
    "### 5.1 Build Transfer Learning Model with Fine Tuning"
   ]
  },
  {
   "cell_type": "code",
   "execution_count": 22,
   "id": "f758234e",
   "metadata": {},
   "outputs": [
    {
     "name": "stdout",
     "output_type": "stream",
     "text": [
      "Model: \"model_1\"\n",
      "_________________________________________________________________\n",
      " Layer (type)                Output Shape              Param #   \n",
      "=================================================================\n",
      " input_2 (InputLayer)        [(None, 224, 224, 3)]     0         \n",
      "                                                                 \n",
      " block1_conv1 (Conv2D)       (None, 224, 224, 64)      1792      \n",
      "                                                                 \n",
      " block1_conv2 (Conv2D)       (None, 224, 224, 64)      36928     \n",
      "                                                                 \n",
      " block1_pool (MaxPooling2D)  (None, 112, 112, 64)      0         \n",
      "                                                                 \n",
      " block2_conv1 (Conv2D)       (None, 112, 112, 128)     73856     \n",
      "                                                                 \n",
      " block2_conv2 (Conv2D)       (None, 112, 112, 128)     147584    \n",
      "                                                                 \n",
      " block2_pool (MaxPooling2D)  (None, 56, 56, 128)       0         \n",
      "                                                                 \n",
      " block3_conv1 (Conv2D)       (None, 56, 56, 256)       295168    \n",
      "                                                                 \n",
      " block3_conv2 (Conv2D)       (None, 56, 56, 256)       590080    \n",
      "                                                                 \n",
      " block3_conv3 (Conv2D)       (None, 56, 56, 256)       590080    \n",
      "                                                                 \n",
      " block3_pool (MaxPooling2D)  (None, 28, 28, 256)       0         \n",
      "                                                                 \n",
      " block4_conv1 (Conv2D)       (None, 28, 28, 512)       1180160   \n",
      "                                                                 \n",
      " block4_conv2 (Conv2D)       (None, 28, 28, 512)       2359808   \n",
      "                                                                 \n",
      " block4_conv3 (Conv2D)       (None, 28, 28, 512)       2359808   \n",
      "                                                                 \n",
      " block4_pool (MaxPooling2D)  (None, 14, 14, 512)       0         \n",
      "                                                                 \n",
      " block5_conv1 (Conv2D)       (None, 14, 14, 512)       2359808   \n",
      "                                                                 \n",
      " block5_conv2 (Conv2D)       (None, 14, 14, 512)       2359808   \n",
      "                                                                 \n",
      " block5_conv3 (Conv2D)       (None, 14, 14, 512)       2359808   \n",
      "                                                                 \n",
      " block5_pool (MaxPooling2D)  (None, 7, 7, 512)         0         \n",
      "                                                                 \n",
      " flatten_2 (Flatten)         (None, 25088)             0         \n",
      "                                                                 \n",
      " dense_6 (Dense)             (None, 256)               6422784   \n",
      "                                                                 \n",
      " dropout_4 (Dropout)         (None, 256)               0         \n",
      "                                                                 \n",
      " dense_7 (Dense)             (None, 64)                16448     \n",
      "                                                                 \n",
      " dropout_5 (Dropout)         (None, 64)                0         \n",
      "                                                                 \n",
      " dense_8 (Dense)             (None, 1)                 65        \n",
      "                                                                 \n",
      "=================================================================\n",
      "Total params: 21,153,985\n",
      "Trainable params: 15,878,529\n",
      "Non-trainable params: 5,275,456\n",
      "_________________________________________________________________\n",
      "None\n"
     ]
    }
   ],
   "source": [
    "with tf.device(device_name):\n",
    "\n",
    "    vgg = VGG16(\n",
    "        input_shape = (224,224,3), \n",
    "        weights = \"imagenet\", \n",
    "        include_top = False\n",
    "    )\n",
    "\n",
    "    for layer in vgg.layers[:13]:\n",
    "        layer.trainable = False\n",
    "\n",
    "    x = Flatten()(vgg.output)\n",
    "    x = Dense(256, activation = \"relu\", kernel_constraint=MaxNorm(3))(x)  \n",
    "    x = Dropout(0.5)(x)\n",
    "    x = Dense(64, activation = \"relu\", kernel_constraint=MaxNorm(3))(x)\n",
    "    x = Dropout(0.2)(x)\n",
    "    x = Dense(1, activation = \"sigmoid\")(x) \n",
    "\n",
    "    vgg_tuned_model = Model(\n",
    "        inputs = vgg.input, \n",
    "        outputs = x\n",
    "    )\n",
    "\n",
    "    METRICS = [\n",
    "        keras.metrics.BinaryAccuracy(name=\"accuracy\"),\n",
    "        keras.metrics.Precision(name=\"precision\"),\n",
    "        keras.metrics.Recall(name=\"recall\"),\n",
    "        keras.metrics.AUC(name=\"auc\")\n",
    "    ]\n",
    "    \n",
    "    vgg_tuned_model.compile(\n",
    "        loss=[keras.losses.BinaryCrossentropy(from_logits=False)], \n",
    "        optimizer=keras.optimizers.Adam(learning_rate=3e-4), \n",
    "        metrics=METRICS\n",
    "    )\n",
    "\n",
    "    print(vgg_tuned_model.summary())"
   ]
  },
  {
   "cell_type": "markdown",
   "id": "e36e9b66",
   "metadata": {},
   "source": [
    "### 5.2 Train"
   ]
  },
  {
   "cell_type": "code",
   "execution_count": 23,
   "id": "4de8eefd",
   "metadata": {
    "scrolled": false
   },
   "outputs": [
    {
     "name": "stdout",
     "output_type": "stream",
     "text": [
      "Epoch 1/20\n"
     ]
    },
    {
     "name": "stderr",
     "output_type": "stream",
     "text": [
      "2023-03-29 12:36:18.835331: I tensorflow/core/grappler/optimizers/custom_graph_optimizer_registry.cc:114] Plugin optimizer for device_type GPU is enabled.\n"
     ]
    },
    {
     "name": "stdout",
     "output_type": "stream",
     "text": [
      "162/162 [==============================] - ETA: 0s - loss: 0.4652 - accuracy: 0.8328 - precision: 0.0455 - recall: 0.0012 - auc: 0.4976"
     ]
    },
    {
     "name": "stderr",
     "output_type": "stream",
     "text": [
      "2023-03-29 12:41:49.194680: I tensorflow/core/grappler/optimizers/custom_graph_optimizer_registry.cc:114] Plugin optimizer for device_type GPU is enabled.\n"
     ]
    },
    {
     "name": "stdout",
     "output_type": "stream",
     "text": [
      "162/162 [==============================] - 381s 2s/step - loss: 0.4652 - accuracy: 0.8328 - precision: 0.0455 - recall: 0.0012 - auc: 0.4976 - val_loss: 0.4611 - val_accuracy: 0.8273 - val_precision: 0.0000e+00 - val_recall: 0.0000e+00 - val_auc: 0.5005\n",
      "Epoch 2/20\n",
      "162/162 [==============================] - 349s 2s/step - loss: 0.4476 - accuracy: 0.8371 - precision: 0.0000e+00 - recall: 0.0000e+00 - auc: 0.5408 - val_loss: 0.4523 - val_accuracy: 0.8266 - val_precision: 0.0000e+00 - val_recall: 0.0000e+00 - val_auc: 0.6698\n",
      "Epoch 3/20\n",
      "162/162 [==============================] - 339s 2s/step - loss: 0.3765 - accuracy: 0.8516 - precision: 0.6652 - recall: 0.1754 - auc: 0.7800 - val_loss: 0.3740 - val_accuracy: 0.8344 - val_precision: 0.7500 - val_recall: 0.0413 - val_auc: 0.8812\n",
      "Epoch 4/20\n",
      "162/162 [==============================] - 335s 2s/step - loss: 0.2902 - accuracy: 0.8764 - precision: 0.6683 - recall: 0.4779 - auc: 0.8857 - val_loss: 0.2594 - val_accuracy: 0.8984 - val_precision: 0.7085 - val_recall: 0.7085 - val_auc: 0.9204\n",
      "Epoch 5/20\n",
      "162/162 [==============================] - 354s 2s/step - loss: 0.2650 - accuracy: 0.8898 - precision: 0.6941 - recall: 0.5819 - auc: 0.9083 - val_loss: 0.2619 - val_accuracy: 0.9070 - val_precision: 0.7772 - val_recall: 0.6471 - val_auc: 0.9123\n",
      "Epoch 6/20\n",
      "162/162 [==============================] - 388s 2s/step - loss: 0.2481 - accuracy: 0.8933 - precision: 0.7052 - recall: 0.5945 - auc: 0.9240 - val_loss: 0.2601 - val_accuracy: 0.9070 - val_precision: 0.8483 - val_recall: 0.5591 - val_auc: 0.9208\n",
      "Epoch 7/20\n",
      "162/162 [==============================] - 390s 2s/step - loss: 0.2344 - accuracy: 0.9061 - precision: 0.7411 - recall: 0.6492 - auc: 0.9299 - val_loss: 0.2452 - val_accuracy: 0.9055 - val_precision: 0.7525 - val_recall: 0.6816 - val_auc: 0.9269\n",
      "Epoch 8/20\n",
      "162/162 [==============================] - 344s 2s/step - loss: 0.2214 - accuracy: 0.9113 - precision: 0.7609 - recall: 0.6639 - auc: 0.9385 - val_loss: 0.2354 - val_accuracy: 0.9141 - val_precision: 0.8146 - val_recall: 0.6532 - val_auc: 0.9296\n",
      "Epoch 9/20\n",
      "162/162 [==============================] - 341s 2s/step - loss: 0.1994 - accuracy: 0.9224 - precision: 0.7936 - recall: 0.7087 - auc: 0.9471 - val_loss: 0.2503 - val_accuracy: 0.9070 - val_precision: 0.8906 - val_recall: 0.5205 - val_auc: 0.9270\n",
      "Epoch 10/20\n",
      "162/162 [==============================] - 343s 2s/step - loss: 0.2084 - accuracy: 0.9189 - precision: 0.7975 - recall: 0.6742 - auc: 0.9422 - val_loss: 0.2270 - val_accuracy: 0.9234 - val_precision: 0.8370 - val_recall: 0.6937 - val_auc: 0.9336\n",
      "Epoch 11/20\n",
      "162/162 [==============================] - 346s 2s/step - loss: 0.1973 - accuracy: 0.9203 - precision: 0.7809 - recall: 0.7050 - auc: 0.9487 - val_loss: 0.2170 - val_accuracy: 0.9273 - val_precision: 0.8547 - val_recall: 0.6955 - val_auc: 0.9428\n",
      "Epoch 12/20\n",
      "162/162 [==============================] - 362s 2s/step - loss: 0.1808 - accuracy: 0.9309 - precision: 0.8200 - recall: 0.7356 - auc: 0.9582 - val_loss: 0.2203 - val_accuracy: 0.9273 - val_precision: 0.8250 - val_recall: 0.7399 - val_auc: 0.9356\n",
      "Epoch 13/20\n",
      "162/162 [==============================] - 390s 2s/step - loss: 0.1777 - accuracy: 0.9294 - precision: 0.8121 - recall: 0.7366 - auc: 0.9577 - val_loss: 0.2063 - val_accuracy: 0.9250 - val_precision: 0.9366 - val_recall: 0.6045 - val_auc: 0.9491\n",
      "Epoch 14/20\n",
      "162/162 [==============================] - 405s 3s/step - loss: 0.1693 - accuracy: 0.9340 - precision: 0.8305 - recall: 0.7473 - auc: 0.9631 - val_loss: 0.1977 - val_accuracy: 0.9281 - val_precision: 0.8621 - val_recall: 0.6881 - val_auc: 0.9474\n",
      "Epoch 15/20\n",
      "162/162 [==============================] - 393s 2s/step - loss: 0.1585 - accuracy: 0.9346 - precision: 0.8244 - recall: 0.7628 - auc: 0.9685 - val_loss: 0.2091 - val_accuracy: 0.9273 - val_precision: 0.8191 - val_recall: 0.7409 - val_auc: 0.9434\n",
      "Epoch 16/20\n",
      "162/162 [==============================] - 367s 2s/step - loss: 0.1590 - accuracy: 0.9373 - precision: 0.8295 - recall: 0.7753 - auc: 0.9679 - val_loss: 0.2299 - val_accuracy: 0.9367 - val_precision: 0.9080 - val_recall: 0.7085 - val_auc: 0.9410\n",
      "Epoch 17/20\n",
      "162/162 [==============================] - 349s 2s/step - loss: 0.1577 - accuracy: 0.9412 - precision: 0.8449 - recall: 0.7836 - auc: 0.9673 - val_loss: 0.2026 - val_accuracy: 0.9359 - val_precision: 0.8846 - val_recall: 0.7252 - val_auc: 0.9418\n",
      "Epoch 18/20\n",
      "162/162 [==============================] - 338s 2s/step - loss: 0.1718 - accuracy: 0.9335 - precision: 0.8231 - recall: 0.7512 - auc: 0.9615 - val_loss: 0.2040 - val_accuracy: 0.9336 - val_precision: 0.8960 - val_recall: 0.6982 - val_auc: 0.9493\n",
      "Epoch 19/20\n",
      "162/162 [==============================] - 342s 2s/step - loss: 0.1374 - accuracy: 0.9468 - precision: 0.8660 - recall: 0.7981 - auc: 0.9769 - val_loss: 0.1968 - val_accuracy: 0.9344 - val_precision: 0.8579 - val_recall: 0.7409 - val_auc: 0.9481\n",
      "Epoch 20/20\n",
      "162/162 [==============================] - 346s 2s/step - loss: 0.1425 - accuracy: 0.9428 - precision: 0.8512 - recall: 0.7852 - auc: 0.9742 - val_loss: 0.1828 - val_accuracy: 0.9422 - val_precision: 0.9066 - val_recall: 0.7432 - val_auc: 0.9575\n"
     ]
    }
   ],
   "source": [
    "hist = vgg_tuned_model.fit(\n",
    "    train_data_gen,\n",
    "    epochs = epochs,\n",
    "    steps_per_epoch = train_examples//batch_size,\n",
    "    validation_data = val_data_gen,\n",
    "    validation_steps = validation_examples//batch_size,\n",
    "    callbacks = [tensorboard_callback],\n",
    "    verbose=1\n",
    "    )"
   ]
  },
  {
   "cell_type": "markdown",
   "id": "78b557c8",
   "metadata": {},
   "source": [
    "### 5.3 Loss Visualization"
   ]
  },
  {
   "cell_type": "code",
   "execution_count": 24,
   "id": "41c87d5b",
   "metadata": {},
   "outputs": [
    {
     "data": {
      "image/png": "[encoded data removed]",
      "text/plain": [
       "<Figure size 500x300 with 1 Axes>"
      ]
     },
     "metadata": {},
     "output_type": "display_data"
    }
   ],
   "source": [
    "visualize_loss(hist)"
   ]
  },
  {
   "cell_type": "markdown",
   "id": "1f835c9d",
   "metadata": {},
   "source": [
    "### 5.4 Evaluate"
   ]
  },
  {
   "cell_type": "code",
   "execution_count": 25,
   "id": "ab474bb7",
   "metadata": {},
   "outputs": [
    {
     "name": "stdout",
     "output_type": "stream",
     "text": [
      "51/51 - 58s - loss: 0.1730 - accuracy: 0.9365 - precision: 0.8943 - recall: 0.7199 - auc: 0.9678 - 58s/epoch - 1s/step\n",
      "\n",
      "Test loss: 0.1730\n",
      "Test accuracy: 0.9365\n",
      "Test F1 score: 0.7976\n"
     ]
    }
   ],
   "source": [
    "score = vgg_tuned_model.evaluate(test_data_gen, verbose=2)\n",
    "\n",
    "print('\\nTest loss:', \"{:.4f}\".format(score[0])) \n",
    "print('Test accuracy:', \"{:.4f}\".format(score[1]))\n",
    "print('Test F1 score:', \"{:.4f}\".format(2*((score[2]*score[3])/(score[2]+score[3]+K.epsilon()))))"
   ]
  },
  {
   "cell_type": "markdown",
   "id": "c77ff02c",
   "metadata": {},
   "source": [
    "### 5.5 Test"
   ]
  },
  {
   "cell_type": "code",
   "execution_count": 26,
   "id": "151fb40f",
   "metadata": {},
   "outputs": [
    {
     "name": "stderr",
     "output_type": "stream",
     "text": [
      "2023-03-29 14:37:20.543569: I tensorflow/core/grappler/optimizers/custom_graph_optimizer_registry.cc:114] Plugin optimizer for device_type GPU is enabled.\n"
     ]
    },
    {
     "name": "stdout",
     "output_type": "stream",
     "text": [
      "51/51 [==============================] - 51s 1s/step\n"
     ]
    },
    {
     "data": {
      "image/png": "[encoded data removed]",
      "text/plain": [
       "<Figure size 640x480 with 1 Axes>"
      ]
     },
     "metadata": {},
     "output_type": "display_data"
    },
    {
     "name": "stdout",
     "output_type": "stream",
     "text": [
      "\n",
      "Confusion Matrix:\n",
      " [[1316   24]\n",
      " [  79  203]]\n",
      "\n",
      "Classification Report:\n",
      "               precision    recall  f1-score   support\n",
      "\n",
      "      benign       0.94      0.98      0.96      1340\n",
      "   malignant       0.89      0.72      0.80       282\n",
      "\n",
      "    accuracy                           0.94      1622\n",
      "   macro avg       0.92      0.85      0.88      1622\n",
      "weighted avg       0.93      0.94      0.93      1622\n",
      "\n"
     ]
    }
   ],
   "source": [
    "pred_prob = vgg_tuned_model.predict(test_data_gen)\n",
    "predictions = pred_prob > 0.5\n",
    "\n",
    "plot_roc(test_labels, pred_prob)\n",
    "\n",
    "cm = confusion_matrix(y_true=test_data_gen.classes, y_pred=predictions)\n",
    "class_report = classification_report(test_data_gen.classes, predictions, target_names=[\"benign\", \"malignant\"])\n",
    "print('\\nConfusion Matrix:\\n', cm)\n",
    "print('\\nClassification Report:\\n', class_report)"
   ]
  }
 ],
 "metadata": {
  "kernelspec": {
   "display_name": "Python 3.10 (tensorflow)",
   "language": "python",
   "name": "tensorflow"
  },
  "language_info": {
   "codemirror_mode": {
    "name": "ipython",
    "version": 3
   },
   "file_extension": ".py",
   "mimetype": "text/x-python",
   "name": "python",
   "nbconvert_exporter": "python",
   "pygments_lexer": "ipython3",
   "version": "3.10.9"
  }
 },
 "nbformat": 4,
 "nbformat_minor": 5
}
