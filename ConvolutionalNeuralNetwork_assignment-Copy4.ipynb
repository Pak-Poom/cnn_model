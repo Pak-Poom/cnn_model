{
 "cells": [
  {
   "cell_type": "markdown",
   "id": "1b4dfd30",
   "metadata": {},
   "source": [
    "# 1. Setup and Data Preparation"
   ]
  },
  {
   "cell_type": "markdown",
   "id": "a816dfad",
   "metadata": {},
   "source": [
    "### 1.1  Install Dependencies and Setup"
   ]
  },
  {
   "cell_type": "code",
   "execution_count": 1,
   "id": "8532ba84",
   "metadata": {},
   "outputs": [
    {
     "name": "stderr",
     "output_type": "stream",
     "text": [
      "2023-03-28 21:00:20.687608: I tensorflow/core/platform/cpu_feature_guard.cc:193] This TensorFlow binary is optimized with oneAPI Deep Neural Network Library (oneDNN) to use the following CPU instructions in performance-critical operations:  SSE4.1 SSE4.2\n",
      "To enable them in other operations, rebuild TensorFlow with the appropriate compiler flags.\n"
     ]
    }
   ],
   "source": [
    "import os\n",
    "import shutil\n",
    "import random\n",
    "\n",
    "import math\n",
    "import pandas as pd\n",
    "import numpy as np\n",
    "import matplotlib.pyplot as plt\n",
    "%matplotlib inline\n",
    "from sklearn.metrics import roc_curve, classification_report, confusion_matrix\n",
    "\n",
    "import tensorflow as tf\n",
    "import keras\n",
    "from keras.models import Sequential\n",
    "from keras.layers import Conv2D, MaxPooling2D, Dense, Flatten, Dropout\n",
    "from keras.constraints import MaxNorm\n",
    "from keras.preprocessing.image import ImageDataGenerator\n",
    "from keras import backend as K"
   ]
  },
  {
   "cell_type": "code",
   "execution_count": 2,
   "id": "39f01d71",
   "metadata": {},
   "outputs": [
    {
     "name": "stdout",
     "output_type": "stream",
     "text": [
      "Found GPU at: /device:GPU:0\n",
      "Metal device set to: Apple M1\n"
     ]
    },
    {
     "name": "stderr",
     "output_type": "stream",
     "text": [
      "2023-03-28 21:00:24.298364: I tensorflow/core/platform/cpu_feature_guard.cc:193] This TensorFlow binary is optimized with oneAPI Deep Neural Network Library (oneDNN) to use the following CPU instructions in performance-critical operations:  SSE4.1 SSE4.2\n",
      "To enable them in other operations, rebuild TensorFlow with the appropriate compiler flags.\n",
      "2023-03-28 21:00:24.298868: I tensorflow/core/common_runtime/pluggable_device/pluggable_device_factory.cc:306] Could not identify NUMA node of platform GPU ID 0, defaulting to 0. Your kernel may not have been built with NUMA support.\n",
      "2023-03-28 21:00:24.298900: I tensorflow/core/common_runtime/pluggable_device/pluggable_device_factory.cc:272] Created TensorFlow device (/device:GPU:0 with 0 MB memory) -> physical PluggableDevice (device: 0, name: METAL, pci bus id: <undefined>)\n"
     ]
    }
   ],
   "source": [
    "device_name = tf.test.gpu_device_name()\n",
    "if len(device_name) > 0:\n",
    "    print(\"Found GPU at: {}\".format(device_name))\n",
    "else:\n",
    "    device_name = \"/device:CPU:0\"\n",
    "    print(\"No GPU, using {}.\".format(device_name))\n",
    "    \n",
    "# Avoid OOM errors by setting GPU Memory Consumption Growth\n",
    "gpus = tf.config.experimental.list_physical_devices('GPU')\n",
    "for gpu in gpus:\n",
    "    tf.config.experimental.set_memory_growth(gpu, True)"
   ]
  },
  {
   "cell_type": "markdown",
   "id": "73bf1180",
   "metadata": {},
   "source": [
    "### 1.2 Prepare Data\n",
    "#### 1.2.1 Make up Directory paths"
   ]
  },
  {
   "cell_type": "code",
   "execution_count": 3,
   "id": "c96eb66d",
   "metadata": {},
   "outputs": [],
   "source": [
    "seed = 1\n",
    "random.seed(seed)\n",
    "\n",
    "directory = \"/Users/pakpoom.danjittisiri/Documents/M.Sc. Classes/Progamming/[msc_class] modern_machine_learning/Convolutional Neural Network (CNN)/Data/\"\n",
    "\n",
    "# Directory for the location of each train, val and test folder\n",
    "train_dir = os.path.join(directory, \"train/\")\n",
    "val_dir = os.path.join(directory, \"val/\")\n",
    "test_dir = os.path.join(directory, \"test/\")\n",
    "\n",
    "# Directory for the location of label.txt files \n",
    "train_label_dir = os.path.join(directory, \"trainlabels.txt\")\n",
    "val_label_dir = os.path.join(directory, \"vallabels.txt\")\n",
    "test_label_dir = os.path.join(directory, \"testlabels.txt\")\n",
    "\n",
    "# Lists contained variables for futher operations\n",
    "dir_names = [\"train\", \"validation\", \"test\"]\n",
    "data_dirs = [train_dir, val_dir, test_dir]\n",
    "label_dirs = [train_label_dir, val_label_dir, test_label_dir]"
   ]
  },
  {
   "cell_type": "markdown",
   "id": "163383e3",
   "metadata": {},
   "source": [
    "#### 1.2.2 Create categorical forders containing benign and malignant images separately in each train, val and test forder"
   ]
  },
  {
   "cell_type": "code",
   "execution_count": 4,
   "id": "624791ec",
   "metadata": {},
   "outputs": [
    {
     "data": {
      "text/plain": [
       "'from tqdm import tqdm\\nfrom time import sleep\\n\\nfor data_ind, data_dir in enumerate(data_dirs):\\n    os.makedirs(data_dir + \"benign/\")\\n    os.makedirs(data_dir + \"malignant/\")\\n\\n# Categorize image data into its belonging folders\\nexamples = 0\\nfor label_ind, label_dir in enumerate(label_dirs):\\n    for line in tqdm(open(label_dir).readlines()[1:]):\\n        split_line = line.split(\" \")\\n        img_file_1 = split_line[0].split(\"/\")\\n        img_file_2 = img_file_1[1]\\n        benign_malign = split_line[1]\\n        if int(float(benign_malign)) == 0:\\n            if os.path.exists(data_dirs[label_ind] + img_file_2):\\n                shutil.copy(\\n                    data_dirs[label_ind] + img_file_2,\\n                    data_dirs[label_ind] + \"benign/\" + img_file_2\\n                )\\n                examples += 1\\n        elif int(float(benign_malign)) == 1:\\n            if os.path.exists(data_dirs[label_ind] + img_file_2):\\n                shutil.copy(\\n                    data_dirs[label_ind] + img_file_2,\\n                    data_dirs[label_ind] + \"malignant/\" + img_file_2\\n                )\\n                examples += 1\\n    print(f\"Number of {dir_names[label_ind]} examples: {examples}\")\\n    examples = 0'"
      ]
     },
     "execution_count": 4,
     "metadata": {},
     "output_type": "execute_result"
    }
   ],
   "source": [
    "\"\"\"from tqdm import tqdm\n",
    "from time import sleep\n",
    "\n",
    "for data_ind, data_dir in enumerate(data_dirs):\n",
    "    os.makedirs(data_dir + \"benign/\")\n",
    "    os.makedirs(data_dir + \"malignant/\")\n",
    "\n",
    "# Categorize image data into its belonging folders\n",
    "examples = 0\n",
    "for label_ind, label_dir in enumerate(label_dirs):\n",
    "    for line in tqdm(open(label_dir).readlines()[1:]):\n",
    "        split_line = line.split(\" \")\n",
    "        img_file_1 = split_line[0].split(\"/\")\n",
    "        img_file_2 = img_file_1[1]\n",
    "        benign_malign = split_line[1]\n",
    "        if int(float(benign_malign)) == 0:\n",
    "            if os.path.exists(data_dirs[label_ind] + img_file_2):\n",
    "                shutil.copy(\n",
    "                    data_dirs[label_ind] + img_file_2,\n",
    "                    data_dirs[label_ind] + \"benign/\" + img_file_2\n",
    "                )\n",
    "                examples += 1\n",
    "        elif int(float(benign_malign)) == 1:\n",
    "            if os.path.exists(data_dirs[label_ind] + img_file_2):\n",
    "                shutil.copy(\n",
    "                    data_dirs[label_ind] + img_file_2,\n",
    "                    data_dirs[label_ind] + \"malignant/\" + img_file_2\n",
    "                )\n",
    "                examples += 1\n",
    "    print(f\"Number of {dir_names[label_ind]} examples: {examples}\")\n",
    "    examples = 0\"\"\""
   ]
  },
  {
   "cell_type": "markdown",
   "id": "9c33a54e",
   "metadata": {},
   "source": [
    "# 2. Data Preprocessing\n",
    "### 2.1 Data Normailization and Augmentation"
   ]
  },
  {
   "cell_type": "code",
   "execution_count": 5,
   "id": "f0b54b29",
   "metadata": {},
   "outputs": [],
   "source": [
    "image_gen_train = ImageDataGenerator(\n",
    "    rescale = 1.0/255,\n",
    "    rotation_range = 15,\n",
    "    zoom_range = (0.95, 0.95),\n",
    "    horizontal_flip = True,\n",
    "    vertical_flip = True,\n",
    "    data_format = \"channels_last\"\n",
    ")\n",
    "image_gen_val = ImageDataGenerator(rescale = 1.0/255)\n",
    "image_gen_test = ImageDataGenerator(rescale = 1.0/255)"
   ]
  },
  {
   "cell_type": "markdown",
   "id": "52172f69",
   "metadata": {},
   "source": [
    "### 2.2 Load Data"
   ]
  },
  {
   "cell_type": "code",
   "execution_count": 6,
   "id": "ccb8200d",
   "metadata": {},
   "outputs": [
    {
     "name": "stdout",
     "output_type": "stream",
     "text": [
      "Found 5187 images belonging to 2 classes.\n",
      "Found 1297 images belonging to 2 classes.\n",
      "Found 1622 images belonging to 2 classes.\n"
     ]
    }
   ],
   "source": [
    "train_examples = 5187\n",
    "validation_examples = 1297\n",
    "test_examples = 1622\n",
    "img_height = img_width = 224\n",
    "batch_size = 32\n",
    "\n",
    "train_data_gen = image_gen_train.flow_from_directory(\n",
    "    directory = train_dir,\n",
    "    target_size = (img_height, img_width),\n",
    "    batch_size = batch_size,\n",
    "    color_mode = \"rgb\",\n",
    "    class_mode = \"binary\",\n",
    "    shuffle = True,\n",
    "    seed = seed\n",
    ")\n",
    "\n",
    "val_data_gen = image_gen_val.flow_from_directory(\n",
    "    directory = val_dir,\n",
    "    target_size = (img_height, img_width),\n",
    "    batch_size = batch_size,\n",
    "    color_mode = \"rgb\",\n",
    "    class_mode = \"binary\",\n",
    "    shuffle = True,\n",
    "    seed = seed\n",
    ")\n",
    "\n",
    "test_data_gen = image_gen_test.flow_from_directory(\n",
    "    directory = test_dir,\n",
    "    target_size = (img_height, img_width),\n",
    "    batch_size = batch_size,\n",
    "    color_mode = \"rgb\",\n",
    "    class_mode = \"binary\",\n",
    "    shuffle = False,\n",
    "    seed = seed\n",
    ")"
   ]
  },
  {
   "cell_type": "markdown",
   "id": "95e85078",
   "metadata": {},
   "source": [
    "# 3. Deep Model and Performance\n",
    "### 3.1 Build Deep Learning Model"
   ]
  },
  {
   "cell_type": "code",
   "execution_count": 7,
   "id": "877d84c8",
   "metadata": {},
   "outputs": [
    {
     "name": "stderr",
     "output_type": "stream",
     "text": [
      "2023-03-28 21:00:24.568378: I tensorflow/core/common_runtime/pluggable_device/pluggable_device_factory.cc:306] Could not identify NUMA node of platform GPU ID 0, defaulting to 0. Your kernel may not have been built with NUMA support.\n",
      "2023-03-28 21:00:24.568404: I tensorflow/core/common_runtime/pluggable_device/pluggable_device_factory.cc:272] Created TensorFlow device (/job:localhost/replica:0/task:0/device:GPU:0 with 0 MB memory) -> physical PluggableDevice (device: 0, name: METAL, pci bus id: <undefined>)\n"
     ]
    },
    {
     "name": "stdout",
     "output_type": "stream",
     "text": [
      "Model: \"sequential\"\n",
      "_________________________________________________________________\n",
      " Layer (type)                Output Shape              Param #   \n",
      "=================================================================\n",
      " conv2d (Conv2D)             (None, 222, 222, 16)      448       \n",
      "                                                                 \n",
      " max_pooling2d (MaxPooling2D  (None, 111, 111, 16)     0         \n",
      " )                                                               \n",
      "                                                                 \n",
      " conv2d_1 (Conv2D)           (None, 109, 109, 32)      4640      \n",
      "                                                                 \n",
      " max_pooling2d_1 (MaxPooling  (None, 54, 54, 32)       0         \n",
      " 2D)                                                             \n",
      "                                                                 \n",
      " conv2d_2 (Conv2D)           (None, 52, 52, 16)        4624      \n",
      "                                                                 \n",
      " max_pooling2d_2 (MaxPooling  (None, 26, 26, 16)       0         \n",
      " 2D)                                                             \n",
      "                                                                 \n",
      " flatten (Flatten)           (None, 10816)             0         \n",
      "                                                                 \n",
      " dense (Dense)               (None, 256)               2769152   \n",
      "                                                                 \n",
      " dropout (Dropout)           (None, 256)               0         \n",
      "                                                                 \n",
      " dense_1 (Dense)             (None, 64)                16448     \n",
      "                                                                 \n",
      " dropout_1 (Dropout)         (None, 64)                0         \n",
      "                                                                 \n",
      " dense_2 (Dense)             (None, 1)                 65        \n",
      "                                                                 \n",
      "=================================================================\n",
      "Total params: 2,795,377\n",
      "Trainable params: 2,795,377\n",
      "Non-trainable params: 0\n",
      "_________________________________________________________________\n"
     ]
    }
   ],
   "source": [
    "with tf.device(device_name):\n",
    "    \n",
    "    model = Sequential()\n",
    "    \n",
    "    model.add(Conv2D(16, (3,3), 1, activation='relu', input_shape=(224, 224, 3)))\n",
    "    model.add(MaxPooling2D())\n",
    "    model.add(Conv2D(32, (3,3), 1, activation='relu'))\n",
    "    model.add(MaxPooling2D())\n",
    "    model.add(Conv2D(16, (3,3), 1, activation='relu'))\n",
    "    model.add(MaxPooling2D())\n",
    "    model.add(Flatten())\n",
    "    model.add(Dense(256, activation='relu', kernel_constraint=MaxNorm(3)))\n",
    "    model.add(Dropout(0.5))\n",
    "    model.add(Dense(64, activation='relu', kernel_constraint=MaxNorm(3)))\n",
    "    model.add(Dropout(0.2))\n",
    "    model.add(Dense(1, activation='sigmoid'))\n",
    "    \n",
    "    METRICS = [\n",
    "        keras.metrics.BinaryAccuracy(name=\"accuracy\"),\n",
    "        keras.metrics.Precision(name=\"precision\"),\n",
    "        keras.metrics.Recall(name=\"recall\"),\n",
    "        keras.metrics.AUC(name=\"auc\")\n",
    "    ]\n",
    "    \n",
    "    model.compile(\n",
    "        loss=[keras.losses.BinaryCrossentropy(from_logits=False)], \n",
    "        optimizer=keras.optimizers.Adam(learning_rate=3e-4), \n",
    "        metrics=METRICS\n",
    "    )\n",
    "    \n",
    "    model.summary()"
   ]
  },
  {
   "cell_type": "markdown",
   "id": "a278049d",
   "metadata": {},
   "source": [
    "### 3.2 Train"
   ]
  },
  {
   "cell_type": "code",
   "execution_count": 8,
   "id": "89e65410",
   "metadata": {},
   "outputs": [],
   "source": [
    "tensorboard_callback = tf.keras.callbacks.TensorBoard(log_dir=\"./logs\")\n",
    "\n",
    "epochs = 10"
   ]
  },
  {
   "cell_type": "code",
   "execution_count": 9,
   "id": "7c46a382",
   "metadata": {
    "scrolled": false
   },
   "outputs": [
    {
     "name": "stdout",
     "output_type": "stream",
     "text": [
      "Epoch 1/10\n"
     ]
    },
    {
     "name": "stderr",
     "output_type": "stream",
     "text": [
      "2023-03-28 21:00:26.100241: I tensorflow/core/grappler/optimizers/custom_graph_optimizer_registry.cc:114] Plugin optimizer for device_type GPU is enabled.\n"
     ]
    },
    {
     "name": "stdout",
     "output_type": "stream",
     "text": [
      "162/162 [==============================] - ETA: 0s - loss: 0.4489 - accuracy: 0.8359 - precision: 0.4655 - recall: 0.0321 - auc: 0.6032"
     ]
    },
    {
     "name": "stderr",
     "output_type": "stream",
     "text": [
      "2023-03-28 21:01:26.608255: I tensorflow/core/grappler/optimizers/custom_graph_optimizer_registry.cc:114] Plugin optimizer for device_type GPU is enabled.\n"
     ]
    },
    {
     "name": "stdout",
     "output_type": "stream",
     "text": [
      "162/162 [==============================] - 64s 381ms/step - loss: 0.4489 - accuracy: 0.8359 - precision: 0.4655 - recall: 0.0321 - auc: 0.6032 - val_loss: 0.4072 - val_accuracy: 0.8273 - val_precision: 0.0000e+00 - val_recall: 0.0000e+00 - val_auc: 0.7644\n",
      "Epoch 2/10\n",
      "162/162 [==============================] - 86s 531ms/step - loss: 0.3771 - accuracy: 0.8454 - precision: 0.6056 - recall: 0.1305 - auc: 0.7695 - val_loss: 0.3760 - val_accuracy: 0.8406 - val_precision: 0.7250 - val_recall: 0.1306 - val_auc: 0.7926\n",
      "Epoch 3/10\n",
      "162/162 [==============================] - 86s 531ms/step - loss: 0.3547 - accuracy: 0.8483 - precision: 0.5960 - recall: 0.2143 - auc: 0.8095 - val_loss: 0.3615 - val_accuracy: 0.8461 - val_precision: 0.8788 - val_recall: 0.1306 - val_auc: 0.8426\n",
      "Epoch 4/10\n",
      "162/162 [==============================] - 86s 531ms/step - loss: 0.3345 - accuracy: 0.8555 - precision: 0.6505 - recall: 0.2536 - auc: 0.8394 - val_loss: 0.3430 - val_accuracy: 0.8445 - val_precision: 0.6909 - val_recall: 0.1727 - val_auc: 0.8498\n",
      "Epoch 5/10\n",
      "162/162 [==============================] - 86s 531ms/step - loss: 0.3108 - accuracy: 0.8700 - precision: 0.7114 - recall: 0.3405 - auc: 0.8623 - val_loss: 0.3166 - val_accuracy: 0.8664 - val_precision: 0.7600 - val_recall: 0.3408 - val_auc: 0.8788\n",
      "Epoch 6/10\n",
      "162/162 [==============================] - 86s 532ms/step - loss: 0.3069 - accuracy: 0.8724 - precision: 0.7020 - recall: 0.3781 - auc: 0.8671 - val_loss: 0.2922 - val_accuracy: 0.8766 - val_precision: 0.8155 - val_recall: 0.3767 - val_auc: 0.8972\n",
      "Epoch 7/10\n",
      "162/162 [==============================] - 86s 530ms/step - loss: 0.2816 - accuracy: 0.8861 - precision: 0.7457 - recall: 0.4621 - auc: 0.8876 - val_loss: 0.2886 - val_accuracy: 0.8859 - val_precision: 0.8854 - val_recall: 0.3864 - val_auc: 0.8967\n",
      "Epoch 8/10\n",
      "162/162 [==============================] - 86s 531ms/step - loss: 0.2813 - accuracy: 0.8832 - precision: 0.7307 - recall: 0.4419 - auc: 0.8896 - val_loss: 0.2812 - val_accuracy: 0.8914 - val_precision: 0.8203 - val_recall: 0.4751 - val_auc: 0.9010\n",
      "Epoch 9/10\n",
      "162/162 [==============================] - 86s 532ms/step - loss: 0.2643 - accuracy: 0.8914 - precision: 0.7518 - recall: 0.4976 - auc: 0.9064 - val_loss: 0.2660 - val_accuracy: 0.8930 - val_precision: 0.7838 - val_recall: 0.5249 - val_auc: 0.9125\n",
      "Epoch 10/10\n",
      "162/162 [==============================] - 86s 532ms/step - loss: 0.2513 - accuracy: 0.9007 - precision: 0.7830 - recall: 0.5382 - auc: 0.9134 - val_loss: 0.2542 - val_accuracy: 0.8922 - val_precision: 0.7673 - val_recall: 0.5471 - val_auc: 0.9194\n"
     ]
    }
   ],
   "source": [
    "hist = model.fit(\n",
    "    train_data_gen,\n",
    "    epochs = epochs,\n",
    "    steps_per_epoch = train_examples//batch_size,\n",
    "    validation_data = val_data_gen,\n",
    "    validation_steps = validation_examples//batch_size,\n",
    "    callbacks = [tensorboard_callback]\n",
    "    )"
   ]
  },
  {
   "cell_type": "markdown",
   "id": "0984c636",
   "metadata": {},
   "source": [
    "### 3.3 Loss Visualization"
   ]
  },
  {
   "cell_type": "code",
   "execution_count": 10,
   "id": "ae0929d0",
   "metadata": {},
   "outputs": [],
   "source": [
    "def visualize_loss(hist):\n",
    "    fig = plt.figure(figsize=(5,3))\n",
    "    plt.plot(hist.history['loss'], color='teal', label='loss')\n",
    "    plt.plot(hist.history['val_loss'], color='orange', label='val_loss')\n",
    "    plt.xlabel(\"Epoch\")\n",
    "    plt.ylabel(\"Loss\")\n",
    "    plt.legend(loc=\"upper right\")\n",
    "    plt.show()"
   ]
  },
  {
   "cell_type": "code",
   "execution_count": 11,
   "id": "489ea910",
   "metadata": {},
   "outputs": [
    {
     "data": {
      "image/png": "[encoded data removed]",
      "text/plain": [
       "<Figure size 500x300 with 1 Axes>"
      ]
     },
     "metadata": {},
     "output_type": "display_data"
    }
   ],
   "source": [
    "visualize_loss(hist)"
   ]
  },
  {
   "cell_type": "markdown",
   "id": "bb9645f5",
   "metadata": {},
   "source": [
    "### 3.4 Evaluate"
   ]
  },
  {
   "cell_type": "code",
   "execution_count": 12,
   "id": "a48fb642",
   "metadata": {},
   "outputs": [
    {
     "name": "stdout",
     "output_type": "stream",
     "text": [
      "51/51 - 3s - loss: 0.2462 - accuracy: 0.9020 - precision: 0.8090 - recall: 0.5709 - auc: 0.9246 - 3s/epoch - 54ms/step\n",
      "\n",
      "Test loss: 0.2462\n",
      "Test accuracy: 0.9020\n",
      "Test F1 score: 0.6694\n"
     ]
    }
   ],
   "source": [
    "score = model.evaluate(test_data_gen, verbose=2)\n",
    "\n",
    "print('\\nTest loss:', \"{:.4f}\".format(score[0])) \n",
    "print('Test accuracy:', \"{:.4f}\".format(score[1]))\n",
    "print('Test F1 score:', \"{:.4f}\".format(2*((score[2]*score[3])/(score[2]+score[3]+K.epsilon()))))"
   ]
  },
  {
   "cell_type": "markdown",
   "id": "ca5cf3d8",
   "metadata": {},
   "source": [
    "### 3.5 Test "
   ]
  },
  {
   "cell_type": "code",
   "execution_count": 13,
   "id": "73378cf3",
   "metadata": {},
   "outputs": [],
   "source": [
    "def create_tst_lb(test_data_gen):\n",
    "\n",
    "    test_labels = np.array([])\n",
    "    num_batches = 0\n",
    "    for _, y in test_data_gen:\n",
    "        test_labels = np.append(test_labels, y)\n",
    "        num_batches += 1 \n",
    "        if num_batches == math.ceil(test_examples / batch_size):\n",
    "            break\n",
    "    \n",
    "    return test_labels"
   ]
  },
  {
   "cell_type": "code",
   "execution_count": 14,
   "id": "38d5cabc",
   "metadata": {},
   "outputs": [],
   "source": [
    "def plot_roc(labels, predictions):\n",
    "    fp, tp, _ = roc_curve(labels, predictions)\n",
    "    plt.plot(100*fp, 100*tp)\n",
    "    plt.suptitle('ROC curve', fontsize=15)\n",
    "    plt.xlabel(\"Flase positive [%]\")\n",
    "    plt.ylabel(\"Tru positive [%]\")\n",
    "    plt.show()"
   ]
  },
  {
   "cell_type": "code",
   "execution_count": 15,
   "id": "c7ab8409",
   "metadata": {},
   "outputs": [
    {
     "name": "stdout",
     "output_type": "stream",
     "text": [
      " 4/51 [=>............................] - ETA: 1s "
     ]
    },
    {
     "name": "stderr",
     "output_type": "stream",
     "text": [
      "2023-03-28 21:14:27.974261: I tensorflow/core/grappler/optimizers/custom_graph_optimizer_registry.cc:114] Plugin optimizer for device_type GPU is enabled.\n"
     ]
    },
    {
     "name": "stdout",
     "output_type": "stream",
     "text": [
      "51/51 [==============================] - 2s 41ms/step\n"
     ]
    },
    {
     "data": {
      "image/png": "[encoded data removed]",
      "text/plain": [
       "<Figure size 640x480 with 1 Axes>"
      ]
     },
     "metadata": {},
     "output_type": "display_data"
    },
    {
     "name": "stdout",
     "output_type": "stream",
     "text": [
      "\n",
      "Confusion Matrix:\n",
      " [[1302   38]\n",
      " [ 121  161]]\n",
      "\n",
      "Classification Report:\n",
      "               precision    recall  f1-score   support\n",
      "\n",
      "      benign       0.91      0.97      0.94      1340\n",
      "   malignant       0.81      0.57      0.67       282\n",
      "\n",
      "    accuracy                           0.90      1622\n",
      "   macro avg       0.86      0.77      0.81      1622\n",
      "weighted avg       0.90      0.90      0.89      1622\n",
      "\n"
     ]
    }
   ],
   "source": [
    "pred_prob = model.predict(test_data_gen)\n",
    "predictions = pred_prob > 0.5\n",
    "\n",
    "test_labels = create_tst_lb(test_data_gen)\n",
    "plot_roc(test_labels, pred_prob)\n",
    "\n",
    "cm = confusion_matrix(y_true=test_data_gen.classes, y_pred=predictions)\n",
    "class_report = classification_report(test_data_gen.classes, predictions, target_names=[\"benign\", \"malignant\"])\n",
    "print('\\nConfusion Matrix:\\n', cm)\n",
    "print('\\nClassification Report:\\n', class_report)"
   ]
  },
  {
   "cell_type": "markdown",
   "id": "9912a366",
   "metadata": {},
   "source": [
    "# 4. Transfer Learning Application\n",
    "### 4.1 Build Transfer Learning Model "
   ]
  },
  {
   "cell_type": "code",
   "execution_count": 16,
   "id": "bd5d0012",
   "metadata": {},
   "outputs": [],
   "source": [
    "from tensorflow.keras.applications import VGG16\n",
    "from tensorflow.keras.models import Model"
   ]
  },
  {
   "cell_type": "code",
   "execution_count": 17,
   "id": "878a941c",
   "metadata": {
    "scrolled": false
   },
   "outputs": [
    {
     "name": "stdout",
     "output_type": "stream",
     "text": [
      "Model: \"model\"\n",
      "_________________________________________________________________\n",
      " Layer (type)                Output Shape              Param #   \n",
      "=================================================================\n",
      " input_1 (InputLayer)        [(None, 224, 224, 3)]     0         \n",
      "                                                                 \n",
      " block1_conv1 (Conv2D)       (None, 224, 224, 64)      1792      \n",
      "                                                                 \n",
      " block1_conv2 (Conv2D)       (None, 224, 224, 64)      36928     \n",
      "                                                                 \n",
      " block1_pool (MaxPooling2D)  (None, 112, 112, 64)      0         \n",
      "                                                                 \n",
      " block2_conv1 (Conv2D)       (None, 112, 112, 128)     73856     \n",
      "                                                                 \n",
      " block2_conv2 (Conv2D)       (None, 112, 112, 128)     147584    \n",
      "                                                                 \n",
      " block2_pool (MaxPooling2D)  (None, 56, 56, 128)       0         \n",
      "                                                                 \n",
      " block3_conv1 (Conv2D)       (None, 56, 56, 256)       295168    \n",
      "                                                                 \n",
      " block3_conv2 (Conv2D)       (None, 56, 56, 256)       590080    \n",
      "                                                                 \n",
      " block3_conv3 (Conv2D)       (None, 56, 56, 256)       590080    \n",
      "                                                                 \n",
      " block3_pool (MaxPooling2D)  (None, 28, 28, 256)       0         \n",
      "                                                                 \n",
      " block4_conv1 (Conv2D)       (None, 28, 28, 512)       1180160   \n",
      "                                                                 \n",
      " block4_conv2 (Conv2D)       (None, 28, 28, 512)       2359808   \n",
      "                                                                 \n",
      " block4_conv3 (Conv2D)       (None, 28, 28, 512)       2359808   \n",
      "                                                                 \n",
      " block4_pool (MaxPooling2D)  (None, 14, 14, 512)       0         \n",
      "                                                                 \n",
      " block5_conv1 (Conv2D)       (None, 14, 14, 512)       2359808   \n",
      "                                                                 \n",
      " block5_conv2 (Conv2D)       (None, 14, 14, 512)       2359808   \n",
      "                                                                 \n",
      " block5_conv3 (Conv2D)       (None, 14, 14, 512)       2359808   \n",
      "                                                                 \n",
      " block5_pool (MaxPooling2D)  (None, 7, 7, 512)         0         \n",
      "                                                                 \n",
      " flatten_1 (Flatten)         (None, 25088)             0         \n",
      "                                                                 \n",
      " dense_3 (Dense)             (None, 256)               6422784   \n",
      "                                                                 \n",
      " dropout_2 (Dropout)         (None, 256)               0         \n",
      "                                                                 \n",
      " dense_4 (Dense)             (None, 64)                16448     \n",
      "                                                                 \n",
      " dropout_3 (Dropout)         (None, 64)                0         \n",
      "                                                                 \n",
      " dense_5 (Dense)             (None, 1)                 65        \n",
      "                                                                 \n",
      "=================================================================\n",
      "Total params: 21,153,985\n",
      "Trainable params: 6,439,297\n",
      "Non-trainable params: 14,714,688\n",
      "_________________________________________________________________\n",
      "None\n"
     ]
    }
   ],
   "source": [
    "with tf.device(device_name):\n",
    "\n",
    "    vgg = VGG16(\n",
    "        input_shape = (224,224,3), \n",
    "        weights = \"imagenet\", \n",
    "        include_top = False\n",
    "    )\n",
    "\n",
    "    for layer in vgg.layers:\n",
    "        layer.trainable = False\n",
    "\n",
    "    x = Flatten()(vgg.output)\n",
    "    x = Dense(256, activation = \"relu\", kernel_constraint=MaxNorm(3))(x)  \n",
    "    x = Dropout(0.5)(x)\n",
    "    x = Dense(64, activation = \"relu\", kernel_constraint=MaxNorm(3))(x)\n",
    "    x = Dropout(0.2)(x)\n",
    "    x = Dense(1, activation = \"sigmoid\")(x) \n",
    "\n",
    "    vgg_model = Model(\n",
    "        inputs = vgg.input, \n",
    "        outputs = x\n",
    "    )\n",
    "\n",
    "    METRICS = [\n",
    "        keras.metrics.BinaryAccuracy(name=\"accuracy\"),\n",
    "        keras.metrics.Precision(name=\"precision\"),\n",
    "        keras.metrics.Recall(name=\"recall\"),\n",
    "        keras.metrics.AUC(name=\"auc\")\n",
    "    ]\n",
    "    \n",
    "    vgg_model.compile(\n",
    "        loss = [keras.losses.BinaryCrossentropy(from_logits=False)], \n",
    "        optimizer = keras.optimizers.Adam(learning_rate=3e-4), \n",
    "        metrics = METRICS\n",
    "    )\n",
    "\n",
    "    print(vgg_model.summary())"
   ]
  },
  {
   "cell_type": "markdown",
   "id": "4742bf39",
   "metadata": {},
   "source": [
    "### 4.2 Train"
   ]
  },
  {
   "cell_type": "code",
   "execution_count": 18,
   "id": "4a9a993d",
   "metadata": {
    "scrolled": false
   },
   "outputs": [
    {
     "name": "stdout",
     "output_type": "stream",
     "text": [
      "Epoch 1/10\n"
     ]
    },
    {
     "name": "stderr",
     "output_type": "stream",
     "text": [
      "2023-03-28 21:14:33.498135: I tensorflow/core/grappler/optimizers/custom_graph_optimizer_registry.cc:114] Plugin optimizer for device_type GPU is enabled.\n"
     ]
    },
    {
     "name": "stdout",
     "output_type": "stream",
     "text": [
      "162/162 [==============================] - ETA: 0s - loss: 0.4724 - accuracy: 0.8277 - precision: 0.2553 - recall: 0.0285 - auc: 0.5667"
     ]
    },
    {
     "name": "stderr",
     "output_type": "stream",
     "text": [
      "2023-03-28 21:18:06.062646: I tensorflow/core/grappler/optimizers/custom_graph_optimizer_registry.cc:114] Plugin optimizer for device_type GPU is enabled.\n"
     ]
    },
    {
     "name": "stdout",
     "output_type": "stream",
     "text": [
      "162/162 [==============================] - 256s 2s/step - loss: 0.4724 - accuracy: 0.8277 - precision: 0.2553 - recall: 0.0285 - auc: 0.5667 - val_loss: 0.4261 - val_accuracy: 0.8281 - val_precision: 0.0000e+00 - val_recall: 0.0000e+00 - val_auc: 0.7467\n",
      "Epoch 2/10\n",
      "162/162 [==============================] - 257s 2s/step - loss: 0.4218 - accuracy: 0.8359 - precision: 0.4603 - recall: 0.0345 - auc: 0.6729 - val_loss: 0.4141 - val_accuracy: 0.8273 - val_precision: 0.0000e+00 - val_recall: 0.0000e+00 - val_auc: 0.7949\n",
      "Epoch 3/10\n",
      "162/162 [==============================] - 259s 2s/step - loss: 0.3966 - accuracy: 0.8442 - precision: 0.6336 - recall: 0.0990 - auc: 0.7251 - val_loss: 0.3913 - val_accuracy: 0.8367 - val_precision: 0.8500 - val_recall: 0.0762 - val_auc: 0.8223\n",
      "Epoch 4/10\n",
      "162/162 [==============================] - 257s 2s/step - loss: 0.3605 - accuracy: 0.8502 - precision: 0.6402 - recall: 0.1824 - auc: 0.7988 - val_loss: 0.3616 - val_accuracy: 0.8391 - val_precision: 0.8636 - val_recall: 0.0856 - val_auc: 0.8364\n",
      "Epoch 5/10\n",
      "162/162 [==============================] - 257s 2s/step - loss: 0.3527 - accuracy: 0.8594 - precision: 0.6756 - recall: 0.2693 - auc: 0.8043 - val_loss: 0.3480 - val_accuracy: 0.8539 - val_precision: 0.8148 - val_recall: 0.1991 - val_auc: 0.8435\n",
      "Epoch 6/10\n",
      "162/162 [==============================] - 259s 2s/step - loss: 0.3327 - accuracy: 0.8638 - precision: 0.6971 - recall: 0.2905 - auc: 0.8355 - val_loss: 0.3367 - val_accuracy: 0.8648 - val_precision: 0.8125 - val_recall: 0.2915 - val_auc: 0.8446\n",
      "Epoch 7/10\n",
      "162/162 [==============================] - 259s 2s/step - loss: 0.3210 - accuracy: 0.8687 - precision: 0.6859 - recall: 0.3544 - auc: 0.8475 - val_loss: 0.3296 - val_accuracy: 0.8672 - val_precision: 0.8228 - val_recall: 0.2941 - val_auc: 0.8548\n",
      "Epoch 8/10\n",
      "162/162 [==============================] - 260s 2s/step - loss: 0.3218 - accuracy: 0.8700 - precision: 0.7154 - recall: 0.3377 - auc: 0.8445 - val_loss: 0.3292 - val_accuracy: 0.8641 - val_precision: 0.8594 - val_recall: 0.2500 - val_auc: 0.8554\n",
      "Epoch 9/10\n",
      "162/162 [==============================] - 267s 2s/step - loss: 0.3223 - accuracy: 0.8716 - precision: 0.7113 - recall: 0.3599 - auc: 0.8458 - val_loss: 0.3262 - val_accuracy: 0.8727 - val_precision: 0.8434 - val_recall: 0.3182 - val_auc: 0.8655\n",
      "Epoch 10/10\n",
      "162/162 [==============================] - 270s 2s/step - loss: 0.3079 - accuracy: 0.8733 - precision: 0.7114 - recall: 0.3777 - auc: 0.8585 - val_loss: 0.3287 - val_accuracy: 0.8719 - val_precision: 0.8085 - val_recall: 0.3423 - val_auc: 0.8699\n"
     ]
    }
   ],
   "source": [
    "hist = vgg_model.fit(\n",
    "    train_data_gen,\n",
    "    epochs = epochs,\n",
    "    steps_per_epoch = train_examples//batch_size,\n",
    "    validation_data = val_data_gen,\n",
    "    validation_steps = validation_examples//batch_size,\n",
    "    callbacks = [tensorboard_callback],\n",
    "    verbose=1\n",
    "    )"
   ]
  },
  {
   "cell_type": "markdown",
   "id": "1369951a",
   "metadata": {},
   "source": [
    "### 4.3 Loss Visualization"
   ]
  },
  {
   "cell_type": "code",
   "execution_count": 19,
   "id": "a22050cf",
   "metadata": {},
   "outputs": [
    {
     "data": {
      "image/png": "[encoded data removed]",
      "text/plain": [
       "<Figure size 500x300 with 1 Axes>"
      ]
     },
     "metadata": {},
     "output_type": "display_data"
    }
   ],
   "source": [
    "visualize_loss(hist)"
   ]
  },
  {
   "cell_type": "markdown",
   "id": "6ff71705",
   "metadata": {},
   "source": [
    "### 4.4 Evaluate"
   ]
  },
  {
   "cell_type": "code",
   "execution_count": 20,
   "id": "771b8ebb",
   "metadata": {},
   "outputs": [
    {
     "name": "stdout",
     "output_type": "stream",
     "text": [
      "51/51 - 58s - loss: 0.3229 - accuracy: 0.8785 - precision: 0.8295 - recall: 0.3794 - auc: 0.8866 - 58s/epoch - 1s/step\n",
      "\n",
      "Test loss: 0.3229\n",
      "Test accuracy: 0.8785\n",
      "Test F1 score: 0.5207\n"
     ]
    }
   ],
   "source": [
    "score = vgg_model.evaluate(test_data_gen, verbose=2)\n",
    "\n",
    "print('\\nTest loss:', \"{:.4f}\".format(score[0])) \n",
    "print('Test accuracy:', \"{:.4f}\".format(score[1]))\n",
    "print('Test F1 score:', \"{:.4f}\".format(2*((score[2]*score[3])/(score[2]+score[3]+K.epsilon()))))"
   ]
  },
  {
   "cell_type": "markdown",
   "id": "abdf15f5",
   "metadata": {},
   "source": [
    "### 4.5 Test"
   ]
  },
  {
   "cell_type": "code",
   "execution_count": 21,
   "id": "5856a63b",
   "metadata": {},
   "outputs": [
    {
     "name": "stderr",
     "output_type": "stream",
     "text": [
      "2023-03-28 21:58:52.678905: I tensorflow/core/grappler/optimizers/custom_graph_optimizer_registry.cc:114] Plugin optimizer for device_type GPU is enabled.\n"
     ]
    },
    {
     "name": "stdout",
     "output_type": "stream",
     "text": [
      "51/51 [==============================] - 50s 983ms/step\n"
     ]
    },
    {
     "data": {
      "image/png": "[encoded data removed]",
      "text/plain": [
       "<Figure size 640x480 with 1 Axes>"
      ]
     },
     "metadata": {},
     "output_type": "display_data"
    },
    {
     "name": "stdout",
     "output_type": "stream",
     "text": [
      "\n",
      "Confusion Matrix:\n",
      " [[1318   22]\n",
      " [ 175  107]]\n",
      "\n",
      "Classification Report:\n",
      "               precision    recall  f1-score   support\n",
      "\n",
      "      benign       0.88      0.98      0.93      1340\n",
      "   malignant       0.83      0.38      0.52       282\n",
      "\n",
      "    accuracy                           0.88      1622\n",
      "   macro avg       0.86      0.68      0.73      1622\n",
      "weighted avg       0.87      0.88      0.86      1622\n",
      "\n"
     ]
    }
   ],
   "source": [
    "pred_prob = vgg_model.predict(test_data_gen)\n",
    "predictions = pred_prob > 0.5\n",
    "\n",
    "plot_roc(test_labels, pred_prob)\n",
    "\n",
    "cm = confusion_matrix(y_true=test_data_gen.classes, y_pred=predictions)\n",
    "class_report = classification_report(test_data_gen.classes, predictions, target_names=[\"benign\", \"malignant\"])\n",
    "print('\\nConfusion Matrix:\\n', cm)\n",
    "print('\\nClassification Report:\\n', class_report)"
   ]
  },
  {
   "cell_type": "markdown",
   "id": "428bcb63",
   "metadata": {},
   "source": [
    "# 5. Transfer Learning application with Fine Tuning and Performance\n",
    "### 5.1 Build Transfer Learning Model with Fine Tuning"
   ]
  },
  {
   "cell_type": "code",
   "execution_count": 22,
   "id": "f758234e",
   "metadata": {},
   "outputs": [
    {
     "name": "stdout",
     "output_type": "stream",
     "text": [
      "Model: \"model_1\"\n",
      "_________________________________________________________________\n",
      " Layer (type)                Output Shape              Param #   \n",
      "=================================================================\n",
      " input_2 (InputLayer)        [(None, 224, 224, 3)]     0         \n",
      "                                                                 \n",
      " block1_conv1 (Conv2D)       (None, 224, 224, 64)      1792      \n",
      "                                                                 \n",
      " block1_conv2 (Conv2D)       (None, 224, 224, 64)      36928     \n",
      "                                                                 \n",
      " block1_pool (MaxPooling2D)  (None, 112, 112, 64)      0         \n",
      "                                                                 \n",
      " block2_conv1 (Conv2D)       (None, 112, 112, 128)     73856     \n",
      "                                                                 \n",
      " block2_conv2 (Conv2D)       (None, 112, 112, 128)     147584    \n",
      "                                                                 \n",
      " block2_pool (MaxPooling2D)  (None, 56, 56, 128)       0         \n",
      "                                                                 \n",
      " block3_conv1 (Conv2D)       (None, 56, 56, 256)       295168    \n",
      "                                                                 \n",
      " block3_conv2 (Conv2D)       (None, 56, 56, 256)       590080    \n",
      "                                                                 \n",
      " block3_conv3 (Conv2D)       (None, 56, 56, 256)       590080    \n",
      "                                                                 \n",
      " block3_pool (MaxPooling2D)  (None, 28, 28, 256)       0         \n",
      "                                                                 \n",
      " block4_conv1 (Conv2D)       (None, 28, 28, 512)       1180160   \n",
      "                                                                 \n",
      " block4_conv2 (Conv2D)       (None, 28, 28, 512)       2359808   \n",
      "                                                                 \n",
      " block4_conv3 (Conv2D)       (None, 28, 28, 512)       2359808   \n",
      "                                                                 \n",
      " block4_pool (MaxPooling2D)  (None, 14, 14, 512)       0         \n",
      "                                                                 \n",
      " block5_conv1 (Conv2D)       (None, 14, 14, 512)       2359808   \n",
      "                                                                 \n",
      " block5_conv2 (Conv2D)       (None, 14, 14, 512)       2359808   \n",
      "                                                                 \n",
      " block5_conv3 (Conv2D)       (None, 14, 14, 512)       2359808   \n",
      "                                                                 \n",
      " block5_pool (MaxPooling2D)  (None, 7, 7, 512)         0         \n",
      "                                                                 \n",
      " flatten_2 (Flatten)         (None, 25088)             0         \n",
      "                                                                 \n",
      " dense_6 (Dense)             (None, 256)               6422784   \n",
      "                                                                 \n",
      " dropout_4 (Dropout)         (None, 256)               0         \n",
      "                                                                 \n",
      " dense_7 (Dense)             (None, 64)                16448     \n",
      "                                                                 \n",
      " dropout_5 (Dropout)         (None, 64)                0         \n",
      "                                                                 \n",
      " dense_8 (Dense)             (None, 1)                 65        \n",
      "                                                                 \n",
      "=================================================================\n",
      "Total params: 21,153,985\n",
      "Trainable params: 15,878,529\n",
      "Non-trainable params: 5,275,456\n",
      "_________________________________________________________________\n",
      "None\n"
     ]
    }
   ],
   "source": [
    "with tf.device(device_name):\n",
    "\n",
    "    vgg = VGG16(\n",
    "        input_shape = (224,224,3), \n",
    "        weights = \"imagenet\", \n",
    "        include_top = False\n",
    "    )\n",
    "\n",
    "    for layer in vgg.layers[:13]:\n",
    "        layer.trainable = False\n",
    "\n",
    "    x = Flatten()(vgg.output)\n",
    "    x = Dense(256, activation = \"relu\", kernel_constraint=MaxNorm(3))(x)  \n",
    "    x = Dropout(0.5)(x)\n",
    "    x = Dense(64, activation = \"relu\", kernel_constraint=MaxNorm(3))(x)\n",
    "    x = Dropout(0.2)(x)\n",
    "    x = Dense(1, activation = \"sigmoid\")(x) \n",
    "\n",
    "    vgg_tuned_model = Model(\n",
    "        inputs = vgg.input, \n",
    "        outputs = x\n",
    "    )\n",
    "\n",
    "    METRICS = [\n",
    "        keras.metrics.BinaryAccuracy(name=\"accuracy\"),\n",
    "        keras.metrics.Precision(name=\"precision\"),\n",
    "        keras.metrics.Recall(name=\"recall\"),\n",
    "        keras.metrics.AUC(name=\"auc\")\n",
    "    ]\n",
    "    \n",
    "    vgg_tuned_model.compile(\n",
    "        loss=[keras.losses.BinaryCrossentropy(from_logits=False)], \n",
    "        optimizer=keras.optimizers.Adam(learning_rate=3e-4), \n",
    "        metrics=METRICS\n",
    "    )\n",
    "\n",
    "    print(vgg_tuned_model.summary())"
   ]
  },
  {
   "cell_type": "markdown",
   "id": "e36e9b66",
   "metadata": {},
   "source": [
    "### 5.2 Train"
   ]
  },
  {
   "cell_type": "code",
   "execution_count": 23,
   "id": "4de8eefd",
   "metadata": {
    "scrolled": false
   },
   "outputs": [
    {
     "name": "stdout",
     "output_type": "stream",
     "text": [
      "Epoch 1/10\n"
     ]
    },
    {
     "name": "stderr",
     "output_type": "stream",
     "text": [
      "2023-03-28 21:59:45.533870: I tensorflow/core/grappler/optimizers/custom_graph_optimizer_registry.cc:114] Plugin optimizer for device_type GPU is enabled.\n"
     ]
    },
    {
     "name": "stdout",
     "output_type": "stream",
     "text": [
      "162/162 [==============================] - ETA: 0s - loss: 0.4601 - accuracy: 0.8345 - precision: 0.2000 - recall: 0.0048 - auc: 0.5352"
     ]
    },
    {
     "name": "stderr",
     "output_type": "stream",
     "text": [
      "2023-03-28 22:04:33.894163: I tensorflow/core/grappler/optimizers/custom_graph_optimizer_registry.cc:114] Plugin optimizer for device_type GPU is enabled.\n"
     ]
    },
    {
     "name": "stdout",
     "output_type": "stream",
     "text": [
      "162/162 [==============================] - 334s 2s/step - loss: 0.4601 - accuracy: 0.8345 - precision: 0.2000 - recall: 0.0048 - auc: 0.5352 - val_loss: 0.4444 - val_accuracy: 0.8266 - val_precision: 0.0000e+00 - val_recall: 0.0000e+00 - val_auc: 0.6432\n",
      "Epoch 2/10\n",
      "162/162 [==============================] - 331s 2s/step - loss: 0.3888 - accuracy: 0.8433 - precision: 0.6053 - recall: 0.1095 - auc: 0.7585 - val_loss: 0.3281 - val_accuracy: 0.8641 - val_precision: 0.6643 - val_recall: 0.4227 - val_auc: 0.8524\n",
      "Epoch 3/10\n",
      "162/162 [==============================] - 359s 2s/step - loss: 0.3202 - accuracy: 0.8691 - precision: 0.6473 - recall: 0.4359 - auc: 0.8537 - val_loss: 0.2685 - val_accuracy: 0.8922 - val_precision: 0.7733 - val_recall: 0.5273 - val_auc: 0.9127\n",
      "Epoch 4/10\n",
      "162/162 [==============================] - 330s 2s/step - loss: 0.2749 - accuracy: 0.8892 - precision: 0.7004 - recall: 0.5595 - auc: 0.8968 - val_loss: 0.2537 - val_accuracy: 0.9023 - val_precision: 0.8038 - val_recall: 0.5747 - val_auc: 0.9281\n",
      "Epoch 5/10\n",
      "162/162 [==============================] - 328s 2s/step - loss: 0.2426 - accuracy: 0.8997 - precision: 0.7199 - recall: 0.6281 - auc: 0.9222 - val_loss: 0.2347 - val_accuracy: 0.8977 - val_precision: 0.6855 - val_recall: 0.7623 - val_auc: 0.9403\n",
      "Epoch 6/10\n",
      "162/162 [==============================] - 328s 2s/step - loss: 0.2322 - accuracy: 0.9018 - precision: 0.7134 - recall: 0.6623 - auc: 0.9315 - val_loss: 0.2451 - val_accuracy: 0.9008 - val_precision: 0.8710 - val_recall: 0.4932 - val_auc: 0.9408\n",
      "Epoch 7/10\n",
      "162/162 [==============================] - 352s 2s/step - loss: 0.2123 - accuracy: 0.9148 - precision: 0.7617 - recall: 0.6956 - auc: 0.9427 - val_loss: 0.2715 - val_accuracy: 0.8836 - val_precision: 0.9080 - val_recall: 0.3591 - val_auc: 0.9437\n",
      "Epoch 8/10\n",
      "162/162 [==============================] - 343s 2s/step - loss: 0.2043 - accuracy: 0.9181 - precision: 0.7820 - recall: 0.6908 - auc: 0.9465 - val_loss: 0.2171 - val_accuracy: 0.9133 - val_precision: 0.8323 - val_recall: 0.6261 - val_auc: 0.9449\n",
      "Epoch 9/10\n",
      "162/162 [==============================] - 338s 2s/step - loss: 0.1930 - accuracy: 0.9230 - precision: 0.7911 - recall: 0.7189 - auc: 0.9533 - val_loss: 0.1922 - val_accuracy: 0.9305 - val_precision: 0.8511 - val_recall: 0.7240 - val_auc: 0.9520\n",
      "Epoch 10/10\n",
      "162/162 [==============================] - 337s 2s/step - loss: 0.1815 - accuracy: 0.9274 - precision: 0.8088 - recall: 0.7259 - auc: 0.9566 - val_loss: 0.1913 - val_accuracy: 0.9305 - val_precision: 0.8837 - val_recall: 0.6878 - val_auc: 0.9552\n"
     ]
    }
   ],
   "source": [
    "hist = vgg_tuned_model.fit(\n",
    "    train_data_gen,\n",
    "    epochs = epochs,\n",
    "    steps_per_epoch = train_examples//batch_size,\n",
    "    validation_data = val_data_gen,\n",
    "    validation_steps = validation_examples//batch_size,\n",
    "    callbacks = [tensorboard_callback],\n",
    "    verbose=1\n",
    "    )"
   ]
  },
  {
   "cell_type": "markdown",
   "id": "78b557c8",
   "metadata": {},
   "source": [
    "### 5.3 Loss Visualization"
   ]
  },
  {
   "cell_type": "code",
   "execution_count": 24,
   "id": "41c87d5b",
   "metadata": {},
   "outputs": [
    {
     "data": {
      "image/png": "[encoded data removed]",
      "text/plain": [
       "<Figure size 500x300 with 1 Axes>"
      ]
     },
     "metadata": {},
     "output_type": "display_data"
    }
   ],
   "source": [
    "visualize_loss(hist)"
   ]
  },
  {
   "cell_type": "markdown",
   "id": "1f835c9d",
   "metadata": {},
   "source": [
    "### 5.4 Evaluate"
   ]
  },
  {
   "cell_type": "code",
   "execution_count": 25,
   "id": "ab474bb7",
   "metadata": {},
   "outputs": [
    {
     "name": "stdout",
     "output_type": "stream",
     "text": [
      "51/51 - 59s - loss: 0.1807 - accuracy: 0.9346 - precision: 0.8793 - recall: 0.7234 - auc: 0.9657 - 59s/epoch - 1s/step\n",
      "\n",
      "Test loss: 0.1807\n",
      "Test accuracy: 0.9346\n",
      "Test F1 score: 0.7938\n"
     ]
    }
   ],
   "source": [
    "score = vgg_tuned_model.evaluate(test_data_gen, verbose=2)\n",
    "\n",
    "print('\\nTest loss:', \"{:.4f}\".format(score[0])) \n",
    "print('Test accuracy:', \"{:.4f}\".format(score[1]))\n",
    "print('Test F1 score:', \"{:.4f}\".format(2*((score[2]*score[3])/(score[2]+score[3]+K.epsilon()))))"
   ]
  },
  {
   "cell_type": "markdown",
   "id": "c77ff02c",
   "metadata": {},
   "source": [
    "### 5.5 Test"
   ]
  },
  {
   "cell_type": "code",
   "execution_count": 26,
   "id": "151fb40f",
   "metadata": {},
   "outputs": [
    {
     "name": "stderr",
     "output_type": "stream",
     "text": [
      "2023-03-28 22:57:04.791386: I tensorflow/core/grappler/optimizers/custom_graph_optimizer_registry.cc:114] Plugin optimizer for device_type GPU is enabled.\n"
     ]
    },
    {
     "name": "stdout",
     "output_type": "stream",
     "text": [
      "51/51 [==============================] - 52s 1s/step\n"
     ]
    },
    {
     "data": {
      "image/png": "[encoded data removed]",
      "text/plain": [
       "<Figure size 640x480 with 1 Axes>"
      ]
     },
     "metadata": {},
     "output_type": "display_data"
    },
    {
     "name": "stdout",
     "output_type": "stream",
     "text": [
      "\n",
      "Confusion Matrix:\n",
      " [[1312   28]\n",
      " [  78  204]]\n",
      "\n",
      "Classification Report:\n",
      "               precision    recall  f1-score   support\n",
      "\n",
      "      benign       0.94      0.98      0.96      1340\n",
      "   malignant       0.88      0.72      0.79       282\n",
      "\n",
      "    accuracy                           0.93      1622\n",
      "   macro avg       0.91      0.85      0.88      1622\n",
      "weighted avg       0.93      0.93      0.93      1622\n",
      "\n"
     ]
    }
   ],
   "source": [
    "pred_prob = vgg_tuned_model.predict(test_data_gen)\n",
    "predictions = pred_prob > 0.5\n",
    "\n",
    "plot_roc(test_labels, pred_prob)\n",
    "\n",
    "cm = confusion_matrix(y_true=test_data_gen.classes, y_pred=predictions)\n",
    "class_report = classification_report(test_data_gen.classes, predictions, target_names=[\"benign\", \"malignant\"])\n",
    "print('\\nConfusion Matrix:\\n', cm)\n",
    "print('\\nClassification Report:\\n', class_report)"
   ]
  }
 ],
 "metadata": {
  "kernelspec": {
   "display_name": "Python 3.10 (tensorflow)",
   "language": "python",
   "name": "tensorflow"
  },
  "language_info": {
   "codemirror_mode": {
    "name": "ipython",
    "version": 3
   },
   "file_extension": ".py",
   "mimetype": "text/x-python",
   "name": "python",
   "nbconvert_exporter": "python",
   "pygments_lexer": "ipython3",
   "version": "3.10.9"
  }
 },
 "nbformat": 4,
 "nbformat_minor": 5
}
